{
 "cells": [
  {
   "cell_type": "code",
   "execution_count": 3,
   "id": "856d625f",
   "metadata": {},
   "outputs": [
    {
     "name": "stdout",
     "output_type": "stream",
     "text": [
      "          Cable_ID Voltage_Level Feeder_ID Sub_Feeder_ID From_Switch  \\\n",
      "0     33KV-SW1-SW2          33kV                                 SW1   \n",
      "1     22KV-SW3-SW4          22kV                                 SW3   \n",
      "2       FDR1-DT001          11kV      FDR1                             \n",
      "3  FDR2-SUB1-DT005          11kV      FDR2          SUB1               \n",
      "\n",
      "  To_Switch Cable_Type  Cable_Age_Years  Length_m Installation_Environment  \\\n",
      "0       SW2       XLPE                7      1200              Underground   \n",
      "1       SW4       PILC                3       800                 Overhead   \n",
      "2                 XLPE                8       400              Underground   \n",
      "3                 XLPE                4       220              Underground   \n",
      "\n",
      "   ... Partial_Discharge_Frequency Partial_Discharge_Intensity  \\\n",
      "0  ...                           0                           0   \n",
      "1  ...                           0                           0   \n",
      "2  ...                           1                           3   \n",
      "3  ...                           0                           0   \n",
      "\n",
      "  Thermal_History_Excursions  Num_Faults   Fault_Type  Repairs_Count  \\\n",
      "0                          0           0         None              0   \n",
      "1                          1           1  Earth Fault              1   \n",
      "2                          1           2  Earth Fault              2   \n",
      "3                          0           0         None              0   \n",
      "\n",
      "     Joint_History  Corrosivity  Water_Ingress  Remarks  \n",
      "0         Original          Low             No  Healthy  \n",
      "1    Repaired once       Medium             No  Monitor  \n",
      "2  Multiple joints         High            Yes  Healthy  \n",
      "3         Original          Low             No           \n",
      "\n",
      "[4 rows x 29 columns]\n"
     ]
    }
   ],
   "source": [
    "import pandas as pd\n",
    "\n",
    "columns = [\n",
    "    \"Cable_ID\",\"Voltage_Level\",\"Feeder_ID\",\"Sub_Feeder_ID\",\"From_Switch\",\"To_Switch\",\n",
    "    \"Cable_Type\",\"Cable_Age_Years\",\"Length_m\",\"Installation_Environment\",\n",
    "    \"Soil_Type\",\"Humidity\",\"Proximity_to_Water\",\"Load_History_Avg_Load\",\"Load_History_Peak_Load\", \n",
    "    \"Loading_Cycles\",\"Overload_Events\",\"IR_Measurement_MOhm\",\"Tan_Delta\",\"Partial_Discharge_Frequency\",\n",
    "    \"Partial_Discharge_Intensity\",\"Thermal_History_Excursions\",\"Num_Faults\",\"Fault_Type\",\"Repairs_Count\",\n",
    "    \"Joint_History\",\"Corrosivity\",\"Water_Ingress\",\"Remarks\"\n",
    "]\n",
    "\n",
    "# Sample data for different voltage levels. You can add or import your actual data here.\n",
    "data = [\n",
    "    [\n",
    "        \"33KV-SW1-SW2\", \"33kV\", \"\", \"\", \"SW1\", \"SW2\", \"XLPE\", 7, 1200, \"Underground\",\n",
    "        \"Sandy\", \"Medium\", \"Far\", 60, 100, 150, 1, 500, 0.001, 0, 0, 0, 0, \"None\", 0, \"Original\", \"Low\", \"No\", \"Healthy\"\n",
    "    ],\n",
    "    [\n",
    "        \"22KV-SW3-SW4\", \"22kV\", \"\", \"\", \"SW3\", \"SW4\", \"PILC\", 3, 800, \"Overhead\",\n",
    "        \"Clay\", \"High\", \"Near\", 50, 90, 100, 0, 400, 0.002, 0, 0, 1, 1, \"Earth Fault\", 1, \"Repaired once\", \"Medium\", \"No\", \"Monitor\"\n",
    "    ],\n",
    "    [\n",
    "        \"FDR1-DT001\", \"11kV\", \"FDR1\", \"\", \"\", \"\", \"XLPE\", 8, 400, \"Underground\",\n",
    "        \"Loam\", \"Medium\", \"Near\", 40, 80, 120, 2, 120, 0.003, 1, 3, 1, 2, \"Earth Fault\", 2, \"Multiple joints\", \"High\", \"Yes\", \"Healthy\"\n",
    "    ],\n",
    "    [\n",
    "        \"FDR2-SUB1-DT005\", \"11kV\", \"FDR2\", \"SUB1\", \"\", \"\", \"XLPE\", 4, 220, \"Underground\",\n",
    "        \"Rocky\", \"Low\", \"Far\", 30, 50, 90, 0, 200, 0.001, 0, 0, 0, 0, \"None\", 0, \"Original\", \"Low\", \"No\", \"\"\n",
    "    ],\n",
    "]\n",
    "\n",
    "df = pd.DataFrame(data, columns=columns)\n",
    "\n",
    "# Save as Excel and CSV for use\n",
    "# df.to_excel(\"/media/sagarkumar/New Volume/SAGAR/DATA_GENERATION/master_cable_data_final.xlsx\", index=False)\n",
    "df.to_csv(\"/media/sagarkumar/New Volume/SAGAR/DATA_GENERATION/master_cable_data_final.csv\", index=False)\n",
    "\n",
    "print(df)\n"
   ]
  },
  {
   "cell_type": "code",
   "execution_count": null,
   "id": "0f32a353",
   "metadata": {},
   "outputs": [],
   "source": []
  }
 ],
 "metadata": {
  "kernelspec": {
   "display_name": "sagar",
   "language": "python",
   "name": "python3"
  },
  "language_info": {
   "codemirror_mode": {
    "name": "ipython",
    "version": 3
   },
   "file_extension": ".py",
   "mimetype": "text/x-python",
   "name": "python",
   "nbconvert_exporter": "python",
   "pygments_lexer": "ipython3",
   "version": "3.10.16"
  }
 },
 "nbformat": 4,
 "nbformat_minor": 5
}
