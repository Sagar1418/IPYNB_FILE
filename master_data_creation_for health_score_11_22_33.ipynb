{
 "cells": [
  {
   "cell_type": "code",
   "execution_count": 2,
   "id": "856d625f",
   "metadata": {},
   "outputs": [
    {
     "name": "stdout",
     "output_type": "stream",
     "text": [
      "          Cable_ID Voltage_Level Feeder_ID Sub_Feeder_ID From_Switch  \\\n",
      "0     33KV-SW1-SW2          33kV                                 SW1   \n",
      "1     22KV-SW3-SW4          22kV                                 SW3   \n",
      "2       FDR1-DT001          11kV      FDR1                             \n",
      "3  FDR2-SUB1-DT005          11kV      FDR2          SUB1               \n",
      "\n",
      "  To_Switch Cable_Type  Cable_Age_Years  Length_m Installation_Environment  \\\n",
      "0       SW2       XLPE                7      1200              Underground   \n",
      "1       SW4       PILC                3       800                 Overhead   \n",
      "2                 XLPE                8       400              Underground   \n",
      "3                 XLPE                4       220              Underground   \n",
      "\n",
      "   ... Partial_Discharge_Frequency Partial_Discharge_Intensity  \\\n",
      "0  ...                           0                           0   \n",
      "1  ...                           0                           0   \n",
      "2  ...                           1                           3   \n",
      "3  ...                           0                           0   \n",
      "\n",
      "  Thermal_History_Excursions  Num_Faults   Fault_Type  Repairs_Count  \\\n",
      "0                          0           0         None              0   \n",
      "1                          1           1  Earth Fault              1   \n",
      "2                          1           2  Earth Fault              2   \n",
      "3                          0           0         None              0   \n",
      "\n",
      "     Joint_History  Corrosivity  Water_Ingress  Remarks  \n",
      "0         Original          Low             No  Healthy  \n",
      "1    Repaired once       Medium             No  Monitor  \n",
      "2  Multiple joints         High            Yes  Healthy  \n",
      "3         Original          Low             No           \n",
      "\n",
      "[4 rows x 29 columns]\n"
     ]
    }
   ],
   "source": [
    "import pandas as pd\n",
    "\n",
    "columns = [\n",
    "    \"Cable_ID\",\"Voltage_Level\",\"Feeder_ID\",\"Sub_Feeder_ID\",\"From_Switch\",\"To_Switch\",\n",
    "    \"Cable_Type\",\"Cable_Age_Years\",\"Length_m\",\"Installation_Environment\",\n",
    "    \"Soil_Type\",\"Humidity\",\"Proximity_to_Water\",\"Load_History_Avg_Load\",\"Load_History_Peak_Load\", \n",
    "    \"Loading_Cycles\",\"Overload_Events\",\"IR_Measurement_MOhm\",\"Tan_Delta\",\"Partial_Discharge_Frequency\",\n",
    "    \"Partial_Discharge_Intensity\",\"Thermal_History_Excursions\",\"Num_Faults\",\"Fault_Type\",\"Repairs_Count\",\n",
    "    \"Joint_History\",\"Corrosivity\",\"Water_Ingress\",\"Remarks\"\n",
    "]\n",
    "\n",
    "# Sample data for different voltage levels. You can add or import your actual data here.\n",
    "data = [\n",
    "    [\n",
    "        \"33KV-SW1-SW2\", \"33kV\", \"\", \"\", \"SW1\", \"SW2\", \"XLPE\", 7, 1200, \"Underground\",\n",
    "        \"Sandy\", \"Medium\", \"Far\", 60, 100, 150, 1, 500, 0.001, 0, 0, 0, 0, \"None\", 0, \"Original\", \"Low\", \"No\", \"Healthy\"\n",
    "    ],\n",
    "    [\n",
    "        \"22KV-SW3-SW4\", \"22kV\", \"\", \"\", \"SW3\", \"SW4\", \"PILC\", 3, 800, \"Overhead\",\n",
    "        \"Clay\", \"High\", \"Near\", 50, 90, 100, 0, 400, 0.002, 0, 0, 1, 1, \"Earth Fault\", 1, \"Repaired once\", \"Medium\", \"No\", \"Monitor\"\n",
    "    ],\n",
    "    [\n",
    "        \"FDR1-DT001\", \"11kV\", \"FDR1\", \"\", \"\", \"\", \"XLPE\", 8, 400, \"Underground\",\n",
    "        \"Loam\", \"Medium\", \"Near\", 40, 80, 120, 2, 120, 0.003, 1, 3, 1, 2, \"Earth Fault\", 2, \"Multiple joints\", \"High\", \"Yes\", \"Healthy\"\n",
    "    ],\n",
    "    [\n",
    "        \"FDR2-SUB1-DT005\", \"11kV\", \"FDR2\", \"SUB1\", \"\", \"\", \"XLPE\", 4, 220, \"Underground\",\n",
    "        \"Rocky\", \"Low\", \"Far\", 30, 50, 90, 0, 200, 0.001, 0, 0, 0, 0, \"None\", 0, \"Original\", \"Low\", \"No\", \"\"\n",
    "    ],\n",
    "]\n",
    "\n",
    "df = pd.DataFrame(data, columns=columns)\n",
    "\n",
    "# Save as Excel and CSV for use\n",
    "# df.to_excel(\"/media/sagarkumar/New Volume/SAGAR/DATA_GENERATION/master_cable_data_final.xlsx\", index=False)\n",
    "df.to_csv(\"/media/sagark24/New Volume/MERGE CDIS/DATA_GENERATION/master_cable_data_final.csv\", index=False)\n",
    "\n",
    "print(df)\n"
   ]
  },
  {
   "cell_type": "code",
   "execution_count": 21,
   "id": "0f32a353",
   "metadata": {},
   "outputs": [
    {
     "name": "stdout",
     "output_type": "stream",
     "text": [
      "Extracted file written.\n",
      "                        Size Insulation Voltage          Type  \\\n",
      "0                      SQ.MM  PILC+XLPE    11KV  HTCF SECTION   \n",
      "1            .06+70+120SQ.MM  PILC+XLPE    11KV  HTCF SECTION   \n",
      "2  0.15+185+225+300+240SQ.MM  PILC+XLPE    11KV  HTCF SECTION   \n",
      "3                   120SQ.MM       PILC    11KV  HTCF SECTION   \n",
      "4                   120SQ.MM       PILC    11KV  HTCF SECTION   \n",
      "5                   120SQ.MM       PILC    11KV  HTCF SECTION   \n",
      "6                   120SQ.MM       PILC    11KV  HTCF SECTION   \n",
      "7                   120SQ.MM       PILC    11KV  HTCF SECTION   \n",
      "8                   120SQ.MM       PILC    11KV  HTCF SECTION   \n",
      "9                   120SQ.MM       PILC    11KV  HTCF SECTION   \n",
      "\n",
      "                       FROM FROM_SWITCH                      TO TO_SWITCH  \\\n",
      "0  VISHWESHWAR NAGAR HETALI       40478                  SAMANT     05587   \n",
      "1        JAWAHAR NAGAR NO.3       13847    SONAVALA ESTATE NO.1     00714   \n",
      "2                                                                           \n",
      "3                AAREY NO.2       18066   AAREY UNIT NO.7 KIOSK     18008   \n",
      "4    AAREY SANKRAMAN STUDIO       19112         AAREY UNIT NO.2     19710   \n",
      "5                 AJIT PARK       15725      TUREL PAKHADI NO.1     06900   \n",
      "6       BABREKAR NAGAR NO.1       18669   KANDIVLI HOUSING NO.3     18671   \n",
      "7    BHAGATSINGH NAGAR NO.1       28860  BHAGATSINGH NAGAR NO.3     34127   \n",
      "8  DINDOSHI VASAHAT CENTRAL       17141  DINDOSHI VASAHAT SOUTH     14101   \n",
      "9            GOKULDHAM NO.2       07636          GOKULDHAM NO.1     06877   \n",
      "\n",
      "                                      DELAYED_REASON  \\\n",
      "0                                                      \n",
      "1  1)FAILED TO OPEN JAWAHAR NAGAR ROAD NO.12 S/S ...   \n",
      "2  1)FAILED TO CLOSE GOREGAON SHOPPING CENTRE S/S...   \n",
      "3  1)AAREY NO.2 S/S (DMS) WENT OFFLINE AFTER GIVI...   \n",
      "4  1) NON DMS SUBSTATION ARE IN ARREY AREA. DMS U...   \n",
      "5  1)TUREL PAKHADI NO.1 S/S (DMS) WENT OFFLINE AF...   \n",
      "6       1) DMS OFFLINE AT KANDIVLI HOUSING NO.3 S/S.   \n",
      "7  1)FAILED TO OPEN BANGUR NAGAR NO.3 S/S DMS SW....   \n",
      "8                                                      \n",
      "9  1) FPI MALFUNCTION AT GOKULDHAM NO.1 S/S SW.NO...   \n",
      "\n",
      "                                        FAULT_NATURE  \\\n",
      "0                                                      \n",
      "1  FAILED TO OPEN JAWAHAR NAGAR ROAD NO; FAILED T...   \n",
      "2  FAILED TO CLOSE GOREGAON SHOPPING CENTRE S/S D...   \n",
      "3                  WENT OFFLINE AFTER GIVING COMMAND   \n",
      "4                                                      \n",
      "5  FAILED TO OPEN AJIT PARK S/S DMS SW; WENT OFFL...   \n",
      "6                 DMS OFFLINE AT KANDIVLI HOUSING NO   \n",
      "7                     FAILED TO OPEN BANGUR NAGAR NO   \n",
      "8  CABLE DAMAGED BY BMC ON DINDOSHI VASAHAT SOUTH RD   \n",
      "9  FPI MALFUNCTION AT GOKULDHAM NO; FPI MALFUNCTI...   \n",
      "\n",
      "                 TIME_OUTAGE        MAIN_REPORTED_TIME  \\\n",
      "0  2020-04-30 17:15:00+00:00 2020-04-30 17:54:08+00:00   \n",
      "1  2020-06-03 14:53:00+00:00 2020-06-03 15:41:43+00:00   \n",
      "2  2020-02-19 22:11:22+00:00 2020-02-19 23:07:51+00:00   \n",
      "3  2020-06-05 15:09:00+00:00 2020-06-05 17:41:23+00:00   \n",
      "4  2020-07-16 06:58:00+00:00 2020-07-16 07:50:19+00:00   \n",
      "5  2020-04-24 04:15:00+00:00 2020-04-24 06:46:57+00:00   \n",
      "6  2020-01-24 15:02:00+00:00 2020-01-24 15:15:03+00:00   \n",
      "7  2020-10-20 15:27:02+00:00 2020-10-20 17:51:23+00:00   \n",
      "8  2020-01-21 11:18:00+00:00 2020-01-21 12:09:16+00:00   \n",
      "9  2020-02-02 17:57:00+00:00 2020-02-02 20:39:00+00:00   \n",
      "\n",
      "              TIME_RESTORED  TIME_DIFFERENCE  \n",
      "0 2020-04-30 17:33:00+00:00       -21.133333  \n",
      "1 2020-06-03 15:41:43+00:00         0.000000  \n",
      "2 2020-02-19 22:45:31+00:00       -22.333333  \n",
      "3 2020-06-05 16:09:00+00:00       -92.383333  \n",
      "4 2020-07-16 07:50:19+00:00         0.000000  \n",
      "5 2020-04-24 04:55:00+00:00      -111.950000  \n",
      "6 2020-01-24 15:15:03+00:00         0.000000  \n",
      "7 2020-10-20 17:51:24+00:00         0.016667  \n",
      "8 2020-01-21 11:42:00+00:00       -27.266667  \n",
      "9 2020-02-02 20:39:00+00:00         0.000000  \n"
     ]
    }
   ],
   "source": [
    "import pandas as pd\n",
    "import re\n",
    "\n",
    "# 1. Load file (final clean file)\n",
    "df_original = pd.read_csv('/media/sagark24/New Volume/MERGE CDIS/DATA_GENERATION/TXN_NMS_HTLOGSHEET_cleaned.csv', low_memory=False)\n",
    "\n",
    "# 2. Filter ENTRY_TYPE == 1\n",
    "df_entry1 = df_original[df_original['ENTRY_TYPE'] == 1].copy().reset_index(drop=True)\n",
    "\n",
    "# 3. UPPERCASE remarks\n",
    "df_entry1['FREE_REMARKS_UPPER'] = df_entry1['FREE_REMARKS'].astype(str).str.upper()\n",
    "\n",
    "# 4. Extraction functions\n",
    "def extract_size(text):\n",
    "    m = re.search(r'X\\s*([\\d\\.\\+\\-\\s]*SQ\\.?\\s*MM)', text)\n",
    "    return m.group(1).replace(\" \", \"\") if m else \"\"\n",
    "\n",
    "def extract_insulation(text):\n",
    "    m = re.search(r'(PILC\\+XLPE|XLPE\\+PILC|PILC|XLPE)', text)\n",
    "    return m.group(1) if m else \"\"\n",
    "\n",
    "def extract_voltage(text):\n",
    "    m = re.search(r'(\\d{2,3})\\s*KV', text)\n",
    "    return f\"{m.group(1)}KV\" if m else \"\"\n",
    "\n",
    "def extract_type(text):\n",
    "    m = re.search(r'(HTCF SECTION|LT SECTION|HT SECTION)', text)\n",
    "    return m.group(1) if m else \"\"\n",
    "\n",
    "def extract_section(text):\n",
    "    m = re.search(r'BETWEEN\\s+(.+?)\\s+S/S\\s+SWITCH:([0-9]+)\\s+TO\\s+(.+?)\\s+S/S\\s+SWITCH:([0-9]+)', text)\n",
    "    if m:\n",
    "        return pd.Series([m.group(1).strip(), m.group(2), m.group(3).strip(), m.group(4)])\n",
    "    return pd.Series([\"\", \"\", \"\", \"\"])\n",
    "\n",
    "def extract_delayed_reason(text):\n",
    "    m = re.search(r'DELAYED DUE TO(.*?)(?:NOTIFICATION NO|$)', text)\n",
    "    return m.group(1).strip() if m else \"\"\n",
    "\n",
    "def extract_fault_nature(text):\n",
    "    patterns = [\n",
    "        'CABLE DAMAGED BY', 'DMS OFFLINE AT', 'FPI MALFUNCTION',\n",
    "        'FAILED TO OPEN', 'FAILED TO CLOSE', 'WENT OFFLINE',\n",
    "        'FEEDER TRIPPING', 'TRAFFIC ON', 'SUPPLY RESTORATION DELAYED'\n",
    "    ]\n",
    "    found = []\n",
    "    for pat in patterns:\n",
    "        for m in re.finditer(r'({0}.*?)(?:\\.|,|;|NOTIFICATION NO|$)'.format(re.escape(pat)), text):\n",
    "            found.append(m.group(1).strip())\n",
    "    return '; '.join(found) if found else \"\"\n",
    "\n",
    "# 5. Extraction (create new DataFrame for output)\n",
    "out = pd.DataFrame()\n",
    "out['Size'] = df_entry1['FREE_REMARKS_UPPER'].apply(extract_size)\n",
    "out['Insulation'] = df_entry1['FREE_REMARKS_UPPER'].apply(extract_insulation)\n",
    "out['Voltage'] = df_entry1['FREE_REMARKS_UPPER'].apply(extract_voltage)\n",
    "out['Type'] = df_entry1['FREE_REMARKS_UPPER'].apply(extract_type)\n",
    "\n",
    "section_cols = df_entry1['FREE_REMARKS_UPPER'].apply(extract_section)\n",
    "section_cols.columns = ['FROM', 'FROM_SWITCH', 'TO', 'TO_SWITCH']\n",
    "out = pd.concat([out, section_cols], axis=1)\n",
    "\n",
    "out['DELAYED_REASON'] = df_entry1['FREE_REMARKS_UPPER'].apply(extract_delayed_reason)\n",
    "out['FAULT_NATURE'] = df_entry1['FREE_REMARKS_UPPER'].apply(extract_fault_nature)\n",
    "\n",
    "# Time columns\n",
    "out['TIME_OUTAGE'] = df_entry1['TIME_OUTAGE'].astype(str)\n",
    "out['MAIN_REPORTED_TIME'] = pd.to_datetime(df_entry1['MAIN_REPORTED_TIME'], errors='coerce')\n",
    "out['TIME_RESTORED'] = pd.to_datetime(df_entry1['TIME_RESTORED'], errors='coerce')\n",
    "out['TIME_DIFFERENCE'] = (out['TIME_RESTORED'] - out['MAIN_REPORTED_TIME']).dt.total_seconds() / 60\n",
    "\n",
    "# 6. Save\n",
    "final_cols = [\n",
    "    'Size', 'Insulation', 'Voltage', 'Type',\n",
    "    'FROM', 'FROM_SWITCH', 'TO', 'TO_SWITCH',\n",
    "    'DELAYED_REASON', 'FAULT_NATURE',\n",
    "    'TIME_OUTAGE', 'MAIN_REPORTED_TIME', 'TIME_RESTORED', 'TIME_DIFFERENCE'\n",
    "]\n",
    "out[final_cols].to_csv('/media/sagark24/New Volume/MERGE CDIS/DATA_GENERATION/processed_fault_data_FINAL.csv', index=False)\n",
    "print(\"Extracted file written.\")\n",
    "print(out[final_cols].head(10))\n"
   ]
  },
  {
   "cell_type": "markdown",
   "id": "b76c63a6",
   "metadata": {},
   "source": [
    "CHECK THE DATA "
   ]
  },
  {
   "cell_type": "code",
   "execution_count": 18,
   "id": "26004c8c",
   "metadata": {},
   "outputs": [
    {
     "name": "stdout",
     "output_type": "stream",
     "text": [
      "Total linebreak cells found: 0\n",
      "Total control-char cells found: 0\n"
     ]
    }
   ],
   "source": [
    "import csv\n",
    "\n",
    "file_path = '/media/sagark24/New Volume/MERGE CDIS/DATA_GENERATION/TXN_NMS_HTLOGSHEET_cleaned.csv'\n",
    "linebreak_count = 0\n",
    "ctrl_count = 0\n",
    "\n",
    "with open(file_path, 'r', encoding='utf-8', errors='replace') as f:\n",
    "    reader = csv.reader(f)\n",
    "    for i, row in enumerate(reader):\n",
    "        for j, cell in enumerate(row):\n",
    "            if '\\n' in cell or '\\r' in cell:\n",
    "                print(f'Linebreak found in row {i+1}, column {j+1}: {repr(cell)}')\n",
    "                linebreak_count += 1\n",
    "            # Any ASCII control char except tab (9) and newline (10, 13)\n",
    "            if any(ord(c) < 32 and ord(c) not in (9, 10, 13) for c in cell):\n",
    "                print(f'Ctrl char found in row {i+1}, column {j+1}: {repr(cell)}')\n",
    "                ctrl_count += 1\n",
    "      \n",
    "\n",
    "print(f'Total linebreak cells found: {linebreak_count}')\n",
    "print(f'Total control-char cells found: {ctrl_count}')\n"
   ]
  },
  {
   "cell_type": "code",
   "execution_count": 19,
   "id": "1b63a03a",
   "metadata": {},
   "outputs": [],
   "source": [
    "with open(file_path, 'r', encoding='utf-8') as f:\n",
    "    expected = None\n",
    "    for i, line in enumerate(f):\n",
    "        cols = line.count(',') + 1\n",
    "        if i == 0:\n",
    "            expected = cols\n",
    "        elif cols != expected:\n",
    "            print(f\"Row {i+1} has {cols} columns (Expected: {expected})\")\n",
    "      "
   ]
  },
  {
   "cell_type": "code",
   "execution_count": 20,
   "id": "89ce6331",
   "metadata": {},
   "outputs": [
    {
     "name": "stdout",
     "output_type": "stream",
     "text": [
      "Total lines: 23705\n"
     ]
    }
   ],
   "source": [
    "import pandas as pd\n",
    "import re\n",
    "\n",
    "# Raw file read, no parse (just lines)\n",
    "filename = \"/media/sagark24/New Volume/MERGE CDIS/DATA_GENERATION/TXN_NMS_HTLOGSHEET_cleaned.csv\"\n",
    "with open(filename, encoding='utf-8', errors='ignore') as f:\n",
    "    lines = f.readlines()\n",
    "\n",
    "print(\"Total lines:\", len(lines))\n",
    "\n",
    "# Line breaks within a field detection (very likely in 'FREE_REMARKS' column)\n",
    "for i, line in enumerate(lines):\n",
    "    if '\\n' in line or '\\r' in line:\n",
    "        # \\n to har line me hoga, but internal bhi ho sakta hai\n",
    "        if line.count('\\n') > 1 or line.count('\\r') > 1:\n",
    "            print(f\"Line {i+1}: Multiple linebreaks in a single line\")\n",
    "\n",
    "    # Look for possible tabs, weird ascii\n",
    "    if re.search(r\"[\\t\\x0b\\x0c\\x1b]\", line):\n",
    "        print(f\"Line {i+1}: Contains tab or control char\")\n",
    "\n",
    "# Check for unclosed quotes\n",
    "for i, line in enumerate(lines):\n",
    "    if line.count('\"') % 2 != 0:\n",
    "        print(f\"Line {i+1}: Unmatched double quote\")\n",
    "\n",
    "# Column count (by comma)\n",
    "col_counts = [l.count(',') for l in lines]\n",
    "mode_col_count = max(set(col_counts), key=col_counts.count)\n",
    "for idx, c in enumerate(col_counts):\n",
    "    if c != mode_col_count:\n",
    "        print(f\"Line {idx+1}: {c} columns (Expected: {mode_col_count})\")\n"
   ]
  },
  {
   "cell_type": "markdown",
   "id": "1d58d2ed",
   "metadata": {},
   "source": [
    "CLEANED DATA"
   ]
  },
  {
   "cell_type": "code",
   "execution_count": 17,
   "id": "8b0be9a2",
   "metadata": {},
   "outputs": [
    {
     "name": "stdout",
     "output_type": "stream",
     "text": [
      "Cleaned rows: 23704\n",
      "Deleted rows: 1433\n",
      "Cleaned file: /media/sagark24/New Volume/MERGE CDIS/DATA_GENERATION/TXN_NMS_HTLOGSHEET_cleaned.csv\n",
      "Deleted file: /media/sagark24/New Volume/MERGE CDIS/DATA_GENERATION/TXN_NMS_HTLOGSHEET_deleted.csv\n"
     ]
    }
   ],
   "source": [
    "import re\n",
    "\n",
    "# === CONFIGURATION ===\n",
    "filename = \"/media/sagark24/New Volume/MERGE CDIS/2-Year-data/TXN_NMS_HTLOGSHEET.csv\"\n",
    "cleaned_filename = \"/media/sagark24/New Volume/MERGE CDIS/DATA_GENERATION/TXN_NMS_HTLOGSHEET_cleaned.csv\"\n",
    "deleted_filename = \"/media/sagark24/New Volume/MERGE CDIS/DATA_GENERATION/TXN_NMS_HTLOGSHEET_deleted.csv\"\n",
    "\n",
    "# === READ ALL LINES ===\n",
    "with open(filename, encoding='utf-8', errors='ignore') as f:\n",
    "    lines = f.readlines()\n",
    "\n",
    "# === HEADER AND COLUMN COUNT ===\n",
    "header = lines[0]\n",
    "expected_col_count = header.count(',')\n",
    "\n",
    "def check_line_issues(line, expected_col_count):\n",
    "    issues = []\n",
    "    # Remove newline for checks\n",
    "    line_no_nl = line.replace('\\r', '').replace('\\n', '')\n",
    "    # Tab or control characters\n",
    "    if re.search(r\"[\\t\\x0b\\x0c\\x1b]\", line_no_nl):\n",
    "        issues.append(\"Tab/control char\")\n",
    "    # Unmatched quotes\n",
    "    if line_no_nl.count('\"') % 2 != 0:\n",
    "        issues.append(\"Unmatched double quote\")\n",
    "    # Wrong column count\n",
    "    col_count = line_no_nl.count(',')\n",
    "    if col_count != expected_col_count:\n",
    "        issues.append(f\"Column count {col_count} (Expected {expected_col_count})\")\n",
    "    # Multiple linebreaks INSIDE line (almost never happens, as we're reading lines)\n",
    "    if line.count('\\n') > 1 or line.count('\\r') > 1:\n",
    "        issues.append(\"Multiple linebreaks in line\")\n",
    "    return issues\n",
    "\n",
    "# === FILTER LINES ===\n",
    "cleaned_lines = [header]\n",
    "deleted_lines = [header.strip() + \",REASON\\n\"]  # Add a reason column to deleted\n",
    "\n",
    "for idx, line in enumerate(lines[1:], start=2):  # 2nd line onwards\n",
    "    issues = check_line_issues(line, expected_col_count)\n",
    "    if issues:\n",
    "        reason = \"; \".join(issues)\n",
    "        deleted_lines.append(line.strip() + f',\"{reason}\"\\n')\n",
    "    else:\n",
    "        cleaned_lines.append(line)\n",
    "\n",
    "# === WRITE OUTPUT FILES ===\n",
    "with open(cleaned_filename, 'w', encoding='utf-8') as f:\n",
    "    f.writelines(cleaned_lines)\n",
    "\n",
    "with open(deleted_filename, 'w', encoding='utf-8') as f:\n",
    "    f.writelines(deleted_lines)\n",
    "\n",
    "print(f\"Cleaned rows: {len(cleaned_lines) - 1}\")\n",
    "print(f\"Deleted rows: {len(deleted_lines) - 1}\")\n",
    "print(f\"Cleaned file: {cleaned_filename}\")\n",
    "print(f\"Deleted file: {deleted_filename}\")\n"
   ]
  },
  {
   "cell_type": "code",
   "execution_count": 25,
   "id": "93e9ccfc",
   "metadata": {},
   "outputs": [
    {
     "name": "stdout",
     "output_type": "stream",
     "text": [
      "Done separating good and bad rows.\n"
     ]
    }
   ],
   "source": [
    "import csv\n",
    "\n",
    "rawfile = '/media/sagark24/New Volume/MERGE CDIS/2-Year-data/TXN_NMS_HTLOGSHEET.csv'\n",
    "goodfile = '/media/sagark24/New Volume/MERGE CDIS/DATA_GENERATION/TXN_NMS_HTLOGSHEET_good.csv'\n",
    "badfile = '/media/sagark24/New Volume/MERGE CDIS/DATA_GENERATION/TXN_NMS_HTLOGSHEET_bad.csv'\n",
    "\n",
    "with open(rawfile, encoding='utf-8', errors='ignore') as f:\n",
    "    reader = csv.reader(f)\n",
    "    header = next(reader)\n",
    "    ncol = len(header)\n",
    "\n",
    "with open(rawfile, encoding='utf-8', errors='ignore') as f, \\\n",
    "     open(goodfile, 'w', encoding='utf-8', newline='') as fgood, \\\n",
    "     open(badfile, 'w', encoding='utf-8', newline='') as fbad:\n",
    "    reader = csv.reader(f)\n",
    "    writer_good = csv.writer(fgood)\n",
    "    writer_bad = csv.writer(fbad)\n",
    "    header = next(reader)\n",
    "    writer_good.writerow(header)\n",
    "    writer_bad.writerow(header)\n",
    "    for row in reader:\n",
    "        if len(row) == ncol:\n",
    "            writer_good.writerow(row)\n",
    "        else:\n",
    "            writer_bad.writerow(row)\n",
    "print(\"Done separating good and bad rows.\")\n"
   ]
  },
  {
   "cell_type": "markdown",
   "id": "d85942c4",
   "metadata": {},
   "source": [
    "ONLY FREE_REMARKS ANALYZE\n"
   ]
  },
  {
   "cell_type": "code",
   "execution_count": 30,
   "id": "17930d02",
   "metadata": {},
   "outputs": [
    {
     "name": "stdout",
     "output_type": "stream",
     "text": [
      "Extracted file written.\n",
      "                        Size Insulation Voltage          Type  \\\n",
      "0                                         220KV                 \n",
      "1                                                               \n",
      "2                      SQ.MM  PILC+XLPE    11KV  HTCF SECTION   \n",
      "3            .06+70+120SQ.MM  PILC+XLPE    11KV  HTCF SECTION   \n",
      "4  0.15+185+225+300+240SQ.MM  PILC+XLPE    11KV  HTCF SECTION   \n",
      "5                   120SQ.MM       PILC    11KV  HTCF SECTION   \n",
      "6                   120SQ.MM       PILC    11KV  HTCF SECTION   \n",
      "7                   120SQ.MM       PILC    11KV  HTCF SECTION   \n",
      "8                   120SQ.MM       PILC    11KV  HTCF SECTION   \n",
      "9                   120SQ.MM       PILC    11KV  HTCF SECTION   \n",
      "\n",
      "                       FROM FROM_SWITCH                      TO TO_SWITCH  \\\n",
      "0                                                                           \n",
      "1                                                                           \n",
      "2  VISHWESHWAR NAGAR HETALI       40478                  SAMANT     05587   \n",
      "3        JAWAHAR NAGAR NO.3       13847    SONAVALA ESTATE NO.1     00714   \n",
      "4                                                                           \n",
      "5                AAREY NO.2       18066   AAREY UNIT NO.7 KIOSK     18008   \n",
      "6    AAREY SANKRAMAN STUDIO       19112         AAREY UNIT NO.2     19710   \n",
      "7                 AJIT PARK       15725      TUREL PAKHADI NO.1     06900   \n",
      "8       BABREKAR NAGAR NO.1       18669   KANDIVLI HOUSING NO.3     18671   \n",
      "9    BHAGATSINGH NAGAR NO.1       28860  BHAGATSINGH NAGAR NO.3     34127   \n",
      "\n",
      "                                      DELAYED_REASON  \\\n",
      "0                                                      \n",
      "1                                                      \n",
      "2                                                      \n",
      "3  1)FAILED TO OPEN JAWAHAR NAGAR ROAD NO.12 S/S ...   \n",
      "4  1)FAILED TO CLOSE GOREGAON SHOPPING CENTRE S/S...   \n",
      "5  1)AAREY NO.2 S/S (DMS) WENT OFFLINE AFTER GIVI...   \n",
      "6  1) NON DMS SUBSTATION ARE IN ARREY AREA. DMS U...   \n",
      "7  1)TUREL PAKHADI NO.1 S/S (DMS) WENT OFFLINE AF...   \n",
      "8       1) DMS OFFLINE AT KANDIVLI HOUSING NO.3 S/S.   \n",
      "9  1)FAILED TO OPEN BANGUR NAGAR NO.3 S/S DMS SW....   \n",
      "\n",
      "                                        FAULT_NATURE  \n",
      "0                                                     \n",
      "1                                                     \n",
      "2                                                     \n",
      "3  FAILED TO OPEN JAWAHAR NAGAR ROAD NO; FAILED T...  \n",
      "4  FAILED TO CLOSE GOREGAON SHOPPING CENTRE S/S D...  \n",
      "5                  WENT OFFLINE AFTER GIVING COMMAND  \n",
      "6                                                     \n",
      "7  FAILED TO OPEN AJIT PARK S/S DMS SW; WENT OFFL...  \n",
      "8                 DMS OFFLINE AT KANDIVLI HOUSING NO  \n",
      "9                     FAILED TO OPEN BANGUR NAGAR NO  \n"
     ]
    }
   ],
   "source": [
    "import pandas as pd\n",
    "import re\n",
    "\n",
    "# 1. Load the file\n",
    "df = pd.read_csv('/media/sagark24/New Volume/MERGE CDIS/DATA_GENERATION/TXN_NMS_HTLOGSHEET_FREE_REMARKS_ONLY.csv', usecols=['FREE_REMARKS'], low_memory=False)\n",
    "\n",
    "# 2. UPPERCASE remarks for consistency\n",
    "df['FREE_REMARKS_UPPER'] = df['FREE_REMARKS'].astype(str).str.upper()\n",
    "\n",
    "# 3. Extraction functions\n",
    "def extract_size(text):\n",
    "    m = re.search(r'X\\s*([\\d\\.\\+\\-\\s]*SQ\\.?\\s*MM)', text)\n",
    "    return m.group(1).replace(\" \", \"\") if m else \"\"\n",
    "\n",
    "def extract_insulation(text):\n",
    "    m = re.search(r'(PILC\\+XLPE|XLPE\\+PILC|PILC|XLPE)', text)\n",
    "    return m.group(1) if m else \"\"\n",
    "\n",
    "def extract_voltage(text):\n",
    "    m = re.search(r'(\\d{2,3})\\s*KV', text)\n",
    "    return f\"{m.group(1)}KV\" if m else \"\"\n",
    "\n",
    "def extract_type(text):\n",
    "    m = re.search(r'(HTCF SECTION|LT SECTION|HT SECTION)', text)\n",
    "    return m.group(1) if m else \"\"\n",
    "\n",
    "def extract_section(text):\n",
    "    m = re.search(r'BETWEEN\\s+(.+?)\\s+S/S\\s+SWITCH:([0-9]+)\\s+TO\\s+(.+?)\\s+S/S\\s+SWITCH:([0-9]+)', text)\n",
    "    if m:\n",
    "        return pd.Series([m.group(1).strip(), m.group(2), m.group(3).strip(), m.group(4)])\n",
    "    return pd.Series([\"\", \"\", \"\", \"\"])\n",
    "\n",
    "def extract_delayed_reason(text):\n",
    "    m = re.search(r'DELAYED DUE TO(.*?)(?:NOTIFICATION NO|$)', text)\n",
    "    return m.group(1).strip() if m else \"\"\n",
    "\n",
    "def extract_fault_nature(text):\n",
    "    patterns = [\n",
    "        'CABLE DAMAGED BY', 'DMS OFFLINE AT', 'FPI MALFUNCTION',\n",
    "        'FAILED TO OPEN', 'FAILED TO CLOSE', 'WENT OFFLINE',\n",
    "        'FEEDER TRIPPING', 'TRAFFIC ON', 'SUPPLY RESTORATION DELAYED'\n",
    "    ]\n",
    "    found = []\n",
    "    for pat in patterns:\n",
    "        for m in re.finditer(r'({0}.*?)(?:\\.|,|;|NOTIFICATION NO|$)'.format(re.escape(pat)), text):\n",
    "            found.append(m.group(1).strip())\n",
    "    return '; '.join(found) if found else \"\"\n",
    "\n",
    "# 4. Apply extraction functions\n",
    "out = pd.DataFrame()\n",
    "out['Size'] = df['FREE_REMARKS_UPPER'].apply(extract_size)\n",
    "out['Insulation'] = df['FREE_REMARKS_UPPER'].apply(extract_insulation)\n",
    "out['Voltage'] = df['FREE_REMARKS_UPPER'].apply(extract_voltage)\n",
    "out['Type'] = df['FREE_REMARKS_UPPER'].apply(extract_type)\n",
    "\n",
    "section_cols = df['FREE_REMARKS_UPPER'].apply(extract_section)\n",
    "section_cols.columns = ['FROM', 'FROM_SWITCH', 'TO', 'TO_SWITCH']\n",
    "out = pd.concat([out, section_cols], axis=1)\n",
    "\n",
    "out['DELAYED_REASON'] = df['FREE_REMARKS_UPPER'].apply(extract_delayed_reason)\n",
    "out['FAULT_NATURE'] = df['FREE_REMARKS_UPPER'].apply(extract_fault_nature)\n",
    "\n",
    "# 5. Save results\n",
    "out.to_csv('/media/sagark24/New Volume/MERGE CDIS/DATA_GENERATION/processed_fault_data_ONLY_FREEREMARKS.csv', index=False)\n",
    "print(\"Extracted file written.\")\n",
    "print(out.head(10))\n"
   ]
  },
  {
   "cell_type": "code",
   "execution_count": 29,
   "id": "37b0aee4",
   "metadata": {},
   "outputs": [
    {
     "name": "stdout",
     "output_type": "stream",
     "text": [
      "Done extracting FREE_REMARKS column!\n"
     ]
    }
   ],
   "source": [
    "import csv\n",
    "\n",
    "input_file = '/media/sagark24/New Volume/MERGE CDIS/2-Year-data/TXN_NMS_HTLOGSHEET.csv'\n",
    "output_file = '/media/sagark24/New Volume/MERGE CDIS/DATA_GENERATION/TXN_NMS_HTLOGSHEET_FREE_REMARKS_ONLY.csv'\n",
    "\n",
    "with open(input_file, encoding='utf-8', errors='ignore') as f, \\\n",
    "     open(output_file, 'w', encoding='utf-8', newline='') as fout:\n",
    "    reader = csv.reader(f)\n",
    "    writer = csv.writer(fout)\n",
    "    header = next(reader)\n",
    "    idx = header.index('FREE_REMARKS')\n",
    "    writer.writerow(['FREE_REMARKS'])\n",
    "    for row in reader:\n",
    "        # If row is too short, skip\n",
    "        if len(row) <= idx:\n",
    "            continue\n",
    "        # If row is too long, join back everything after 'FREE_REMARKS' index\n",
    "        remarks = ','.join(row[idx:])\n",
    "        writer.writerow([remarks])\n",
    "print('Done extracting FREE_REMARKS column!')\n"
   ]
  },
  {
   "cell_type": "code",
   "execution_count": 1,
   "id": "2f8be676",
   "metadata": {},
   "outputs": [
    {
     "name": "stdout",
     "output_type": "stream",
     "text": [
      "Done extracting FREE_REMARKS column!\n"
     ]
    }
   ],
   "source": [
    "import csv\n",
    "\n",
    "input_file = '/media/sagark24/New Volume/MERGE CDIS/2-Year-data/TXN_NMS_HTLOGSHEET.csv'\n",
    "output_file = '/media/sagark24/New Volume/MERGE CDIS/DATA_GENERATION/TXN_NMS_HTLOGSHEET_FREE_REMARKS_ONLY_clean.csv'\n",
    "\n",
    "with open(input_file, encoding='utf-8', errors='ignore') as f, \\\n",
    "     open(output_file, 'w', encoding='utf-8', newline='') as fout:\n",
    "    lines = f.readlines()\n",
    "    header = lines[0]\n",
    "    header_fields = next(csv.reader([header]))\n",
    "    idx = header_fields.index('FREE_REMARKS')\n",
    "\n",
    "    writer = csv.writer(fout)\n",
    "    writer.writerow(['FREE_REMARKS'])\n",
    "\n",
    "    for line in lines[1:]:\n",
    "        # Try CSV split first\n",
    "        fields = next(csv.reader([line]))\n",
    "        if len(fields) > idx:\n",
    "            # Extract the field, but also join if too many fields\n",
    "            remarks = fields[idx]\n",
    "            # If row is too long, join the rest (likely misalignment)\n",
    "            if len(fields) > len(header_fields):\n",
    "                remarks = ','.join(fields[idx:len(fields)-(len(fields)-len(header_fields))])\n",
    "            elif len(fields) > idx + 1:\n",
    "                # Conservative: join all after idx\n",
    "                remarks = ','.join(fields[idx:])\n",
    "            writer.writerow([remarks])\n",
    "        else:\n",
    "            # Fallback: take the biggest text-y chunk\n",
    "            import re\n",
    "            matches = re.findall(r'([A-Za-z0-9].{10,})', line)\n",
    "            guess = max(matches, key=len) if matches else ''\n",
    "            writer.writerow([guess])\n",
    "\n",
    "print('Done extracting FREE_REMARKS column!')\n"
   ]
  },
  {
   "cell_type": "code",
   "execution_count": 2,
   "id": "d55a5b1b",
   "metadata": {},
   "outputs": [
    {
     "name": "stdout",
     "output_type": "stream",
     "text": [
      "✅  Clean remarks written to: /media/sagark24/New Volume/MERGE CDIS/DATA_GENERATION/TXN_NMS_HTLOGSHEET_FREE_REMARKS_ONLY_fixed.csv\n"
     ]
    }
   ],
   "source": [
    "import csv, re, pathlib\n",
    "\n",
    "src  = pathlib.Path(\n",
    "    \"/media/sagark24/New Volume/MERGE CDIS/DATA_GENERATION/\"\n",
    "    \"TXN_NMS_HTLOGSHEET_FREE_REMARKS_ONLY.csv\"\n",
    ")\n",
    "dst  = src.with_name(src.stem + \"_fixed.csv\")\n",
    "\n",
    "def keep_from_first_real_token(raw: str) -> str:\n",
    "    \"\"\"\n",
    "    Drop leading junk like ',0,14,,,,' and return the actual sentence.\n",
    "    Strategy:\n",
    "      1. Split on ','               (they’re cheap now – only in this row)\n",
    "      2. Keep dropping tokens until one *looks* like text,\n",
    "         i.e. contains at least one alphabetic char **and**\n",
    "         either 'KV', 'SQ', 'C X', 'C X', or 'REC-STN'.\n",
    "    \"\"\"\n",
    "    # Fast path – many rows already clean\n",
    "    if raw.lstrip().startswith((\"1)\", \"C\", \"2\", \"3\", \"4\", \"5\")):\n",
    "        return raw.lstrip(\", \")\n",
    "\n",
    "    tokens = raw.split(\",\")\n",
    "    pat    = re.compile(r\"[A-Z]\", re.I)\n",
    "    key    = (\"KV\", \"SQ\", \"C X\", \"C X\", \"REC-STN\", \"CABLE\", \"TRIPPED\")\n",
    "\n",
    "    while tokens:\n",
    "        if pat.search(tokens[0]) and any(k in tokens[0].upper() for k in key):\n",
    "            break\n",
    "        tokens.pop(0)\n",
    "\n",
    "    return \",\".join(tokens).lstrip(\" ,\")\n",
    "\n",
    "with src.open(encoding=\"utf-8\", errors=\"ignore\") as f_in, \\\n",
    "     dst.open(\"w\", newline=\"\", encoding=\"utf-8\") as f_out:\n",
    "\n",
    "    reader = csv.reader(f_in)\n",
    "    writer = csv.writer(f_out, quoting=csv.QUOTE_MINIMAL)\n",
    "\n",
    "    header = next(reader)            # ['FREE_REMARKS']\n",
    "    writer.writerow(header)          # keep same header\n",
    "\n",
    "    for row in reader:\n",
    "        raw = row[0] if row else \"\"\n",
    "        writer.writerow([keep_from_first_real_token(raw)])\n",
    "\n",
    "print(f\"✅  Clean remarks written to: {dst}\")\n"
   ]
  },
  {
   "cell_type": "code",
   "execution_count": 9,
   "id": "ad937e18",
   "metadata": {},
   "outputs": [
    {
     "name": "stdout",
     "output_type": "stream",
     "text": [
      "✓ Parsed 24,228 records  →  /media/sagark24/New Volume/MERGE CDIS/DATA_GENERATION/processed_fault_data_ONLY_FREEREMARKS.csv\n",
      "|    | Size                      | Insulation   | Voltage   | Type         | FROM                     |   FROM_SWITCH | TO                     |   TO_SWITCH | DELAYED_REASON                                                                                                                                                                                                                                                                                                                                                                    | FAULT_NATURE   |\n",
      "|---:|:--------------------------|:-------------|:----------|:-------------|:-------------------------|--------------:|:-----------------------|------------:|:----------------------------------------------------------------------------------------------------------------------------------------------------------------------------------------------------------------------------------------------------------------------------------------------------------------------------------------------------------------------------------|:---------------|\n",
      "|  0 | SQ.MM                     | PILC+XLPE    | 11KV      | HTCF SECTION | VISHWESHWAR NAGAR HETALI |         40478 | SAMANT                 |        5587 |                                                                                                                                                                                                                                                                                                                                                                                   |                |\n",
      "|  1 | .06+70+120SQ.MM           | PILC+XLPE    | 11KV      | HTCF SECTION | JAWAHAR NAGAR NO.3       |         13847 | SONAVALA ESTATE NO.1   |         714 | 1)FAILED TO OPEN JAWAHAR NAGAR ROAD NO.12 S/S DMS SW.NO.25658 FAILED TO OPERATE FROM SCADA. 2)FAILED TO OPEN JAWAHAR NAGAR ROAD NO.12 S/S DMS SW.NO.25657 FAILED TO OPERATE FROM SCADA. 3)KASTURI KUNJ S/S (DMS) WENT OFFLINE AFTER TRIPPING.                                                                                                                                     |                |\n",
      "|  2 | 0.15+185+225+300+240SQ.MM | PILC+XLPE    | 11KV      | HTCF SECTION | nan                      |           nan | nan                    |         nan | 1)FAILED TO CLOSE GOREGAON SHOPPING CENTRE S/S DMS SW.NO.04673 FAILED TO OPERATE FROM SCADA.                                                                                                                                                                                                                                                                                      |                |\n",
      "|  3 | 120SQ.MM                  | PILC         | 11KV      | HTCF SECTION | AAREY NO.2               |         18066 | AAREY UNIT NO.7 KIOSK  |       18008 | 1)AAREY NO.2 S/S (DMS) WENT OFFLINE AFTER GIVING COMMAND. 2)FPI FAULTY AT AAREY UNIT NO.7 KIOSK S/S..                                                                                                                                                                                                                                                                             |                |\n",
      "|  4 | 120SQ.MM                  | PILC         | 11KV      | HTCF SECTION | AAREY SANKRAMAN STUDIO   |         19112 | AAREY UNIT NO.2        |       19710 | 1) NON DMS SUBSTATION ARE IN ARREY AREA. DMS USED FOR ISOLATION AND RESTORATION.                                                                                                                                                                                                                                                                                                  |                |\n",
      "|  5 | 120SQ.MM                  | PILC         | 11KV      | HTCF SECTION | AJIT PARK                |         15725 | TUREL PAKHADI NO.1     |        6900 | 1)TUREL PAKHADI NO.1 S/S (DMS) WENT OFFLINE AFTER TRIPPING. 2)LIBERTY GARDEN SOUTH NO.2 S/S (DMS) WENT OFFLINE AFTER TRIPPING. 3) FEEDER TRIPPING AT PALM COURT REC-STN SW.NO.27081. 4)FAILED TO OPEN AJIT PARK S/S DMS SW.NO.15725 FAILED TO OPERATE FROM SCADA.                                                                                                                 |                |\n",
      "|  6 | 120SQ.MM                  | PILC         | 11KV      | HTCF SECTION | BABREKAR NAGAR NO.1      |         18669 | KANDIVLI HOUSING NO.3  |       18671 | 1) DMS OFFLINE AT KANDIVLI HOUSING NO.3 S/S.                                                                                                                                                                                                                                                                                                                                      |                |\n",
      "|  7 | 120SQ.MM                  | PILC         | 11KV      | HTCF SECTION | BHAGATSINGH NAGAR NO.1   |         28860 | BHAGATSINGH NAGAR NO.3 |       34127 | 1)FAILED TO OPEN BANGUR NAGAR NO.3 S/S DMS SW.NO.31181 FAILED TO OPERATE FROM SCADA. DMS OPERATED AFTER GIVING MULTIPLE COMMANDS.                                                                                                                                                                                                                                                 |                |\n",
      "|  8 | 120SQ.MM                  | PILC         | 11KV      | HTCF SECTION | DINDOSHI VASAHAT CENTRAL |         17141 | DINDOSHI VASAHAT SOUTH |       14101 |                                                                                                                                                                                                                                                                                                                                                                                   |                |\n",
      "|  9 | 120SQ.MM                  | PILC         | 11KV      | HTCF SECTION | GOKULDHAM NO.2           |          7636 | GOKULDHAM NO.1         |        6877 | 1) FPI MALFUNCTION AT GOKULDHAM NO.1 S/S SW.NO.06877 (GLOWN). 2) FPI MALFUNCTION AT GOKULDHAM NO.1 S/S SW.NO.06878 (GLOWN). 3)FAILED TO OPEN GOKULDHAM NO.1 S/S DMS SW.NO.06877 FAILED TO OPERATE FROM SCADA. 4)FAILED TO OPEN GOKULDHAM NO.1 S/S DMS SW.NO.06878 FAILED TO OPERATE FROM SCADA. 5)FAILED TO OPEN GOKULDHAM NO.1 S/S DMS SW.NO.06892 FAILED TO OPERATE FROM SCADA. |                |\n"
     ]
    }
   ],
   "source": [
    "#!/usr/bin/env python3\n",
    "# -----------------------------------------------------------\n",
    "#  Pull structured fields out of HT-cable FREE_REMARKS strings\n",
    "# -----------------------------------------------------------\n",
    "import re\n",
    "import pandas as pd\n",
    "\n",
    "# ─── Edit these two paths ───────────────────────────────────\n",
    "SRC  = r'/media/sagark24/New Volume/MERGE CDIS/DATA_GENERATION/Book1.csv'   # has FREE_REMARKS column\n",
    "DEST = r'/media/sagark24/New Volume/MERGE CDIS/DATA_GENERATION/processed_fault_data_ONLY_FREEREMARKS.csv'\n",
    "# ─────────────────────────────────────────────────────────────\n",
    "\n",
    "# 1) Load and normalise ----------------------------------------------------------\n",
    "df_txt = (\n",
    "    pd.read_csv(SRC, usecols=['FREE_REMARKS'], low_memory=False)\n",
    "      .fillna('')\n",
    "      .assign(TXT=lambda d: d['FREE_REMARKS'].str.upper())\n",
    ")\n",
    "\n",
    "# 2) Pre-compile the regexes -----------------------------------------------------\n",
    "RE_SIZE        = re.compile(r'\\bX\\s*([\\d+\\-.\\s]*SQ\\.?\\s*MM)')            # 120SQ.MM  0.15+185+240SQ.MM\n",
    "RE_INSULATION  = re.compile(r'(PILC\\+XLPE|XLPE\\+PILC|PILC|XLPE)')\n",
    "RE_VOLTAGE     = re.compile(r'(\\d{2,3})\\s*KV')\n",
    "RE_TYPE        = re.compile(r'(HTCF SECTION|LT SECTION|HT SECTION)')\n",
    "RE_SECTION     = re.compile(\n",
    "    r'BETWEEN\\s+(.+?)\\s+S/S\\s+SW\\.?ITCH:?\\s*([0-9]+)\\s+TO\\s+(.+?)\\s+S/S\\s+SW\\.?ITCH:?\\s*([0-9]+)',\n",
    "    flags=re.I\n",
    ")\n",
    "RE_DELAYED     = re.compile(\n",
    "    r'(?:ISOLATION\\s*&?\\s*RESTORATION\\s+)?DELAYED (?:AS|DUE TO)\\s*(.*?)(?:NOTIFICATION NO|$)',\n",
    "    flags=re.I\n",
    ")\n",
    "\n",
    "FAULT_TOKENS = [\n",
    "    'CABLE DAMAGED BY', 'CABLE DAMAGED',     # covers slightly shorter variant\n",
    "    'DMS OFFLINE AT', 'WENT OFFLINE',\n",
    "    'FPI MALFUNCTION', 'FPI FAULTY',\n",
    "    'FAILED TO OPEN',  'FAILED TO CLOSE',\n",
    "    'FEEDER TRIPPING', 'TRAFFIC ON',\n",
    "    'SUPPLY RESTORTION DELAYED', 'SUPPLY RESTORATION DELAYED'\n",
    "]\n",
    "# create one big alternation for speed\n",
    "RE_FAULT = re.compile(\n",
    "    '(' + '|'.join(re.escape(tok) for tok in FAULT_TOKENS) + r'.*?)(?:\\.|,|;|NOTIFICATION NO|$)',\n",
    "    flags=re.I\n",
    ")\n",
    "\n",
    "# 3) Utility ---------------------------------------------------------------------\n",
    "def _first(regex, text, fmt=lambda m: m.group(1)):\n",
    "    m = regex.search(text)\n",
    "    return fmt(m) if m else ''\n",
    "\n",
    "def _faults(text: str) -> str:\n",
    "    return '; '.join(m.group(1).strip() for m in RE_FAULT.finditer(text))\n",
    "\n",
    "# 4) Column extraction -----------------------------------------------------------\n",
    "out = pd.DataFrame({\n",
    "    'Size'       : df_txt['TXT'].apply(lambda t: _first(RE_SIZE, t, lambda m: m.group(1).replace(' ', ''))),\n",
    "    'Insulation' : df_txt['TXT'].apply(lambda t: _first(RE_INSULATION, t)),\n",
    "    'Voltage'    : df_txt['TXT'].apply(lambda t: _first(RE_VOLTAGE, t, lambda m: f\"{m.group(1)}KV\")),\n",
    "    'Type'       : df_txt['TXT'].apply(lambda t: _first(RE_TYPE, t))\n",
    "})\n",
    "\n",
    "# --- FROM / TO / SWITCH columns -------------------------------------------------\n",
    "sec = df_txt['TXT'].str.extract(RE_SECTION)\n",
    "sec.columns = ['FROM', 'FROM_SWITCH', 'TO', 'TO_SWITCH']\n",
    "out = pd.concat([out, sec], axis=1)\n",
    "\n",
    "# --- delay / fault --------------------------------------------------------------\n",
    "out['DELAYED_REASON'] = df_txt['TXT'].apply(lambda t: _first(RE_DELAYED, t).strip())\n",
    "out['FAULT_NATURE']   = df_txt['TXT'].apply(_faults)\n",
    "\n",
    "# 5) Final tidy-up & write -------------------------------------------------------\n",
    "out = out[['Size','Insulation','Voltage','Type',\n",
    "           'FROM','FROM_SWITCH','TO','TO_SWITCH',\n",
    "           'DELAYED_REASON','FAULT_NATURE']]\n",
    "\n",
    "out.to_csv(DEST, index=False)\n",
    "print(f'✓ Parsed {len(out):,} records  →  {DEST}')\n",
    "print(out.head(10).to_markdown())\n"
   ]
  },
  {
   "cell_type": "code",
   "execution_count": 1,
   "id": "5c2b243c",
   "metadata": {},
   "outputs": [
    {
     "name": "stdout",
     "output_type": "stream",
     "text": [
      "Number of rows containing the word \"SWITCH\": 21584\n"
     ]
    }
   ],
   "source": [
    "# Count the number of rows where the DESCRIPTION column contains the word \"SWITCH\"\n",
    "import pandas as pd\n",
    "df = pd.read_csv('/media/sagark24/New Volume/MERGE CDIS/DATA_GENERATION/DESCRIPTION.csv', low_memory=False)\n",
    "rows_with_switch = df['DESCRIPTION'].str.contains(r'\\bSWITCH\\b', case=False, na=False).sum()\n",
    "print(f'Number of rows containing the word \"SWITCH\": {rows_with_switch}')"
   ]
  },
  {
   "cell_type": "code",
   "execution_count": 2,
   "id": "35e7390b",
   "metadata": {},
   "outputs": [
    {
     "data": {
      "text/plain": [
       "23939"
      ]
     },
     "execution_count": 2,
     "metadata": {},
     "output_type": "execute_result"
    }
   ],
   "source": [
    "len(df)  # Total number of rows in the DataFrame"
   ]
  },
  {
   "cell_type": "code",
   "execution_count": 8,
   "id": "bd18e39e",
   "metadata": {},
   "outputs": [
    {
     "name": "stdout",
     "output_type": "stream",
     "text": [
      "Number of rows containing the word \"11kV\": 19598\n"
     ]
    }
   ],
   "source": [
    "\n",
    "rows_with_switch = df['DESCRIPTION'].str.contains(r'\\b11 KV\\b', case=False, na=False).sum()\n",
    "print(f'Number of rows containing the word \"11kV\": {rows_with_switch}')"
   ]
  },
  {
   "cell_type": "code",
   "execution_count": 9,
   "id": "ab973a95",
   "metadata": {},
   "outputs": [
    {
     "name": "stdout",
     "output_type": "stream",
     "text": [
      "Number of rows containing the word \"22kV\": 627\n",
      "Number of rows containing the word \"33kV\": 1194\n"
     ]
    }
   ],
   "source": [
    "\n",
    "\n",
    "rows_with_switch_22 = df['DESCRIPTION'].str.contains(r'\\b22 KV\\b', case=False, na=False).sum()\n",
    "row_with_33 = df['DESCRIPTION'].str.contains(r'\\b33 KV\\b', case=False, na=False).sum()\n",
    "print(f'Number of rows containing the word \"22kV\": {rows_with_switch_22}')\n",
    "print(f'Number of rows containing the word \"33kV\": {row_with_33}')\n"
   ]
  },
  {
   "cell_type": "code",
   "execution_count": 10,
   "id": "16adce0e",
   "metadata": {},
   "outputs": [
    {
     "name": "stdout",
     "output_type": "stream",
     "text": [
      "Total number of rows containing \"SWITCH\", \"11kV\", \"22kV\", or \"33kV\": 21419\n"
     ]
    }
   ],
   "source": [
    "total = rows_with_switch + row_with_33 + rows_with_switch_22\n",
    "print(f'Total number of rows containing \"SWITCH\", \"11kV\", \"22kV\", or \"33kV\": {total}')"
   ]
  },
  {
   "cell_type": "code",
   "execution_count": 12,
   "id": "a1133ece",
   "metadata": {},
   "outputs": [
    {
     "name": "stdout",
     "output_type": "stream",
     "text": [
      "Number of rows containing the word \"SWITCH\": 21749\n"
     ]
    }
   ],
   "source": [
    "# Count the number of rows where the DESCRIPTION column contains the word \"SWITCH\"\n",
    "import pandas as pd\n",
    "df = pd.read_csv('/media/sagark24/New Volume/MERGE CDIS/DATA_GENERATION/TXN_NMS_HTLOGSHEET_FREE_REMARKS_ONLY_clean.csv', low_memory=False)\n",
    "rows_with_switch = df['FREE_REMARKS'].str.contains(r'\\bSWITCH\\b', case=False, na=False).sum()\n",
    "print(f'Number of rows containing the word \"SWITCH\": {rows_with_switch}')"
   ]
  },
  {
   "cell_type": "code",
   "execution_count": 14,
   "id": "4d703585",
   "metadata": {},
   "outputs": [
    {
     "name": "stdout",
     "output_type": "stream",
     "text": [
      "Number of rows containing the word \"11kV\": 19777\n",
      "Number of rows containing the word \"22kV\": 680\n",
      "Number of rows containing the word \"33kV\": 1294\n"
     ]
    }
   ],
   "source": [
    "\n",
    "rows_with_switch = df['FREE_REMARKS'].str.contains(r'\\b11 KV\\b', case=False, na=False).sum()\n",
    "print(f'Number of rows containing the word \"11kV\": {rows_with_switch}')\n",
    "\n",
    "\n",
    "rows_with_switch_22 = df['FREE_REMARKS'].str.contains(r'\\b22 KV\\b', case=False, na=False).sum()\n",
    "row_with_33 = df['FREE_REMARKS'].str.contains(r'\\b33 KV\\b', case=False, na=False).sum()\n",
    "print(f'Number of rows containing the word \"22kV\": {rows_with_switch_22}')\n",
    "print(f'Number of rows containing the word \"33kV\": {row_with_33}')\n"
   ]
  },
  {
   "cell_type": "code",
   "execution_count": 16,
   "id": "0fec9a78",
   "metadata": {},
   "outputs": [
    {
     "name": "stdout",
     "output_type": "stream",
     "text": [
      "Total number of rows containing \"SWITCH\", \"11kV\", \"22kV\", or \"33kV\": 21751\n"
     ]
    }
   ],
   "source": [
    "total = rows_with_switch + row_with_33 + rows_with_switch_22\n",
    "print(f'Total number of rows containing \"SWITCH\", \"11kV\", \"22kV\", or \"33kV\": {total}')"
   ]
  },
  {
   "cell_type": "code",
   "execution_count": 7,
   "id": "0f53829a",
   "metadata": {},
   "outputs": [],
   "source": [
    "df_free_remarks = pd.read_csv('/media/sagark24/New Volume/MERGE CDIS/DATA_GENERATION/processed_fault_data_ONLY_FREEREMARKS.csv', low_memory=False)"
   ]
  },
  {
   "cell_type": "code",
   "execution_count": 8,
   "id": "f28473f0",
   "metadata": {},
   "outputs": [
    {
     "data": {
      "text/plain": [
       "24228"
      ]
     },
     "execution_count": 8,
     "metadata": {},
     "output_type": "execute_result"
    }
   ],
   "source": [
    "len(df_free_remarks)  # Total number of rows in the DataFrame"
   ]
  },
  {
   "cell_type": "code",
   "execution_count": 10,
   "id": "0409721e",
   "metadata": {},
   "outputs": [
    {
     "data": {
      "text/plain": [
       "np.int64(15971)"
      ]
     },
     "execution_count": 10,
     "metadata": {},
     "output_type": "execute_result"
    }
   ],
   "source": [
    "\n",
    "df_free_remarks['FROM_SWITCH'].isna().sum()\n"
   ]
  },
  {
   "cell_type": "markdown",
   "id": "21f089af",
   "metadata": {},
   "source": [
    "Only two column fetch switch number "
   ]
  },
  {
   "cell_type": "code",
   "execution_count": null,
   "id": "15b95a2b",
   "metadata": {},
   "outputs": [],
   "source": []
  },
  {
   "cell_type": "code",
   "execution_count": 5,
   "id": "1c642d0f",
   "metadata": {},
   "outputs": [
    {
     "name": "stdout",
     "output_type": "stream",
     "text": [
      "✓ extracted two switch numbers (incl. “SW NO” forms) → /media/sagark24/New Volume/MERGE CDIS/DATA_GENERATION/fault_switch_pairs.csv\n",
      "| SWITCH_1   | SWITCH_2   |\n",
      "|:-----------|:-----------|\n",
      "| 220AAR18   |            |\n",
      "|            |            |\n",
      "| 40478      | 05587      |\n",
      "| 13847      | 00714      |\n",
      "| 01523      | 02310      |\n",
      "| 18066      | 18008      |\n",
      "| 19112      | 19710      |\n",
      "| 15725      | 06900      |\n",
      "| 18669      | 18671      |\n",
      "| 28860      | 34127      |\n"
     ]
    }
   ],
   "source": [
    "import re, pandas as pd\n",
    "# ── 1. Load the file that contains FREE_REMARKS ────────────────────────────────\n",
    "IN_FILE  = r'/media/sagark24/New Volume/MERGE CDIS/DATA_GENERATION/TXN_NMS_HTLOGSHEET_FREE_REMARKS_ONLY_fixed.csv'\n",
    "OUT_FILE = r'/media/sagark24/New Volume/MERGE CDIS/DATA_GENERATION/fault_switch_pairs.csv'\n",
    "\n",
    "df = (pd.read_csv(IN_FILE, usecols=['FREE_REMARKS'], low_memory=False)\n",
    "        .fillna('').astype(str))\n",
    "\n",
    "# ── regex now matches “SWITCH …12345”,  “SW NO …12345”,  “SW.NO. 12345” ───────\n",
    "RE_SWITCH = re.compile(\n",
    "    r'\\b(?:SWITCH|SW\\.?\\s*NO\\.?)\\s*[:\\s]*([0-9A-Z]+)',  # capture the code\n",
    "    flags=re.I                                          # case-insensitive\n",
    ")\n",
    "\n",
    "def first_two_switches(text: str) -> pd.Series:\n",
    "    nums = RE_SWITCH.findall(text)\n",
    "    nums = (nums + ['', ''])[:2]        # always length-2\n",
    "    return pd.Series(nums, index=['SWITCH_1', 'SWITCH_2'])\n",
    "\n",
    "df[['SWITCH_1', 'SWITCH_2']] = df['FREE_REMARKS'].apply(first_two_switches)\n",
    "\n",
    "df[['SWITCH_1', 'SWITCH_2']].to_csv(OUT_FILE, index=False)\n",
    "print(f'✓ extracted two switch numbers (incl. “SW NO” forms) → {OUT_FILE}')\n",
    "print(df[['SWITCH_1', 'SWITCH_2']].head(10).to_markdown(index=False))\n"
   ]
  },
  {
   "cell_type": "code",
   "execution_count": 11,
   "id": "b6e37937",
   "metadata": {},
   "outputs": [],
   "source": [
    "df_out= pd.read_csv(OUT_FILE, low_memory=False)"
   ]
  },
  {
   "cell_type": "code",
   "execution_count": 12,
   "id": "ebef58eb",
   "metadata": {},
   "outputs": [
    {
     "ename": "KeyError",
     "evalue": "'FROM_SWITCH'",
     "output_type": "error",
     "traceback": [
      "\u001b[0;31m---------------------------------------------------------------------------\u001b[0m",
      "\u001b[0;31mKeyError\u001b[0m                                  Traceback (most recent call last)",
      "File \u001b[0;32m~/miniconda3/envs/py310/lib/python3.10/site-packages/pandas/core/indexes/base.py:3805\u001b[0m, in \u001b[0;36mIndex.get_loc\u001b[0;34m(self, key)\u001b[0m\n\u001b[1;32m   3804\u001b[0m \u001b[38;5;28;01mtry\u001b[39;00m:\n\u001b[0;32m-> 3805\u001b[0m     \u001b[38;5;28;01mreturn\u001b[39;00m \u001b[38;5;28;43mself\u001b[39;49m\u001b[38;5;241;43m.\u001b[39;49m\u001b[43m_engine\u001b[49m\u001b[38;5;241;43m.\u001b[39;49m\u001b[43mget_loc\u001b[49m\u001b[43m(\u001b[49m\u001b[43mcasted_key\u001b[49m\u001b[43m)\u001b[49m\n\u001b[1;32m   3806\u001b[0m \u001b[38;5;28;01mexcept\u001b[39;00m \u001b[38;5;167;01mKeyError\u001b[39;00m \u001b[38;5;28;01mas\u001b[39;00m err:\n",
      "File \u001b[0;32mindex.pyx:167\u001b[0m, in \u001b[0;36mpandas._libs.index.IndexEngine.get_loc\u001b[0;34m()\u001b[0m\n",
      "File \u001b[0;32mindex.pyx:196\u001b[0m, in \u001b[0;36mpandas._libs.index.IndexEngine.get_loc\u001b[0;34m()\u001b[0m\n",
      "File \u001b[0;32mpandas/_libs/hashtable_class_helper.pxi:7081\u001b[0m, in \u001b[0;36mpandas._libs.hashtable.PyObjectHashTable.get_item\u001b[0;34m()\u001b[0m\n",
      "File \u001b[0;32mpandas/_libs/hashtable_class_helper.pxi:7089\u001b[0m, in \u001b[0;36mpandas._libs.hashtable.PyObjectHashTable.get_item\u001b[0;34m()\u001b[0m\n",
      "\u001b[0;31mKeyError\u001b[0m: 'FROM_SWITCH'",
      "\nThe above exception was the direct cause of the following exception:\n",
      "\u001b[0;31mKeyError\u001b[0m                                  Traceback (most recent call last)",
      "Cell \u001b[0;32mIn[12], line 2\u001b[0m\n\u001b[1;32m      1\u001b[0m \u001b[38;5;66;03m# df_out['SOURCE_SS'].isna().sum(),\u001b[39;00m\n\u001b[0;32m----> 2\u001b[0m \u001b[43mdf_out\u001b[49m\u001b[43m[\u001b[49m\u001b[38;5;124;43m'\u001b[39;49m\u001b[38;5;124;43mFROM_SWITCH\u001b[39;49m\u001b[38;5;124;43m'\u001b[39;49m\u001b[43m]\u001b[49m\u001b[38;5;241m.\u001b[39misna()\u001b[38;5;241m.\u001b[39msum(),\n\u001b[1;32m      3\u001b[0m \u001b[38;5;66;03m# df_out['DESTINATION_SS'].isna().sum(),\u001b[39;00m\n\u001b[1;32m      4\u001b[0m df_out[\u001b[38;5;124m'\u001b[39m\u001b[38;5;124mTO_SWITCH\u001b[39m\u001b[38;5;124m'\u001b[39m]\u001b[38;5;241m.\u001b[39misna()\u001b[38;5;241m.\u001b[39msum()\n",
      "File \u001b[0;32m~/miniconda3/envs/py310/lib/python3.10/site-packages/pandas/core/frame.py:4102\u001b[0m, in \u001b[0;36mDataFrame.__getitem__\u001b[0;34m(self, key)\u001b[0m\n\u001b[1;32m   4100\u001b[0m \u001b[38;5;28;01mif\u001b[39;00m \u001b[38;5;28mself\u001b[39m\u001b[38;5;241m.\u001b[39mcolumns\u001b[38;5;241m.\u001b[39mnlevels \u001b[38;5;241m>\u001b[39m \u001b[38;5;241m1\u001b[39m:\n\u001b[1;32m   4101\u001b[0m     \u001b[38;5;28;01mreturn\u001b[39;00m \u001b[38;5;28mself\u001b[39m\u001b[38;5;241m.\u001b[39m_getitem_multilevel(key)\n\u001b[0;32m-> 4102\u001b[0m indexer \u001b[38;5;241m=\u001b[39m \u001b[38;5;28;43mself\u001b[39;49m\u001b[38;5;241;43m.\u001b[39;49m\u001b[43mcolumns\u001b[49m\u001b[38;5;241;43m.\u001b[39;49m\u001b[43mget_loc\u001b[49m\u001b[43m(\u001b[49m\u001b[43mkey\u001b[49m\u001b[43m)\u001b[49m\n\u001b[1;32m   4103\u001b[0m \u001b[38;5;28;01mif\u001b[39;00m is_integer(indexer):\n\u001b[1;32m   4104\u001b[0m     indexer \u001b[38;5;241m=\u001b[39m [indexer]\n",
      "File \u001b[0;32m~/miniconda3/envs/py310/lib/python3.10/site-packages/pandas/core/indexes/base.py:3812\u001b[0m, in \u001b[0;36mIndex.get_loc\u001b[0;34m(self, key)\u001b[0m\n\u001b[1;32m   3807\u001b[0m     \u001b[38;5;28;01mif\u001b[39;00m \u001b[38;5;28misinstance\u001b[39m(casted_key, \u001b[38;5;28mslice\u001b[39m) \u001b[38;5;129;01mor\u001b[39;00m (\n\u001b[1;32m   3808\u001b[0m         \u001b[38;5;28misinstance\u001b[39m(casted_key, abc\u001b[38;5;241m.\u001b[39mIterable)\n\u001b[1;32m   3809\u001b[0m         \u001b[38;5;129;01mand\u001b[39;00m \u001b[38;5;28many\u001b[39m(\u001b[38;5;28misinstance\u001b[39m(x, \u001b[38;5;28mslice\u001b[39m) \u001b[38;5;28;01mfor\u001b[39;00m x \u001b[38;5;129;01min\u001b[39;00m casted_key)\n\u001b[1;32m   3810\u001b[0m     ):\n\u001b[1;32m   3811\u001b[0m         \u001b[38;5;28;01mraise\u001b[39;00m InvalidIndexError(key)\n\u001b[0;32m-> 3812\u001b[0m     \u001b[38;5;28;01mraise\u001b[39;00m \u001b[38;5;167;01mKeyError\u001b[39;00m(key) \u001b[38;5;28;01mfrom\u001b[39;00m\u001b[38;5;250m \u001b[39m\u001b[38;5;21;01merr\u001b[39;00m\n\u001b[1;32m   3813\u001b[0m \u001b[38;5;28;01mexcept\u001b[39;00m \u001b[38;5;167;01mTypeError\u001b[39;00m:\n\u001b[1;32m   3814\u001b[0m     \u001b[38;5;66;03m# If we have a listlike key, _check_indexing_error will raise\u001b[39;00m\n\u001b[1;32m   3815\u001b[0m     \u001b[38;5;66;03m#  InvalidIndexError. Otherwise we fall through and re-raise\u001b[39;00m\n\u001b[1;32m   3816\u001b[0m     \u001b[38;5;66;03m#  the TypeError.\u001b[39;00m\n\u001b[1;32m   3817\u001b[0m     \u001b[38;5;28mself\u001b[39m\u001b[38;5;241m.\u001b[39m_check_indexing_error(key)\n",
      "\u001b[0;31mKeyError\u001b[0m: 'FROM_SWITCH'"
     ]
    }
   ],
   "source": [
    "# df_out['SOURCE_SS'].isna().sum(),\n",
    "df_out['FROM_SWITCH'].isna().sum(),\n",
    "# df_out['DESTINATION_SS'].isna().sum(),\n",
    "df_out['TO_SWITCH'].isna().sum()"
   ]
  },
  {
   "cell_type": "code",
   "execution_count": 13,
   "id": "b0d7199f",
   "metadata": {},
   "outputs": [],
   "source": [
    "# Count the number of empty (or NaN) rows in each column of the DataFrame"
   ]
  },
  {
   "cell_type": "code",
   "execution_count": 14,
   "id": "f17bd2e3",
   "metadata": {},
   "outputs": [
    {
     "name": "stdout",
     "output_type": "stream",
     "text": [
      "SWITCH_1    2208\n",
      "SWITCH_2    8369\n",
      "dtype: int64\n"
     ]
    }
   ],
   "source": [
    "# Count the number of empty (or NaN) rows in each column of the DataFrame df\n",
    "empty_counts = df_out.isna().sum() + (df_out == '').sum()\n",
    "print(empty_counts)"
   ]
  },
  {
   "cell_type": "code",
   "execution_count": 17,
   "id": "208a9f34",
   "metadata": {},
   "outputs": [],
   "source": [
    "df= pd.read_csv('/media/sagark24/New Volume/MERGE CDIS/DATA_GENERATION/processed_fault_data_FINAL.csv', low_memory=False)"
   ]
  },
  {
   "cell_type": "code",
   "execution_count": 19,
   "id": "fc741ff8",
   "metadata": {},
   "outputs": [
    {
     "data": {
      "text/plain": [
       "(np.int64(3025), np.int64(3025))"
      ]
     },
     "execution_count": 19,
     "metadata": {},
     "output_type": "execute_result"
    }
   ],
   "source": [
    "df['FROM_SWITCH'].isna().sum(), df['TO_SWITCH'].isna().sum()"
   ]
  },
  {
   "cell_type": "code",
   "execution_count": 22,
   "id": "8b43ba97",
   "metadata": {},
   "outputs": [
    {
     "name": "stdout",
     "output_type": "stream",
     "text": [
      "[40478. 13847.    nan ... 35707. 31205. 11602.]\n",
      "[ 5587.   714.    nan ... 35699.  7273. 31379.]\n",
      "4142 4092\n"
     ]
    }
   ],
   "source": [
    "\n",
    "print(df['FROM_SWITCH'].unique())\n",
    "print(df['TO_SWITCH'].unique()) \n",
    "print(len(df['FROM_SWITCH'].unique()), len(df['TO_SWITCH'].unique()))"
   ]
  },
  {
   "cell_type": "code",
   "execution_count": 33,
   "id": "eb029aa7",
   "metadata": {},
   "outputs": [
    {
     "name": "stdout",
     "output_type": "stream",
     "text": [
      "Processing file: /media/sagark24/New Volume/MERGE CDIS/DATA_GENERATION/fault_switch_pairs.csv...\n",
      "  - Found 8558 unique, clean values.\n",
      "Processing file: /media/sagark24/New Volume/MERGE CDIS/2-Year-data/HTCABLE.csv...\n",
      "  - Found 18082 unique, clean values.\n",
      "\n",
      "--- Comparison Report ---\n",
      "Unique values in '/media/sagark24/New Volume/MERGE CDIS/DATA_GENERATION/fault_switch_pairs.csv' (Column: SWITCH_1): 8558\n",
      "Unique values in '/media/sagark24/New Volume/MERGE CDIS/2-Year-data/HTCABLE.csv' (Column: SOURCE_SWITCH_ID): 18082\n",
      "-------------------------\n",
      "Number of values that matched: 6538\n",
      "-------------------------\n"
     ]
    }
   ],
   "source": [
    "import pandas as pd\n",
    "\n",
    "# --- CONFIGURATION: PLEASE EDIT THIS SECTION ---\n",
    "\n",
    "# File 1 Details\n",
    "file1_path = \"/media/sagark24/New Volume/MERGE CDIS/DATA_GENERATION/fault_switch_pairs.csv\"\n",
    "file1_column_name = \"SWITCH_1\"\n",
    "\n",
    "# File 2 Details\n",
    "file2_path = \"/media/sagark24/New Volume/MERGE CDIS/2-Year-data/HTCABLE.csv\"\n",
    "file2_column_name = \"SOURCE_SWITCH_ID\"\n",
    "\n",
    "# Output File Path\n",
    "# This file will contain only the values that exist in BOTH files.\n",
    "output_file_path = \"/media/sagark24/New Volume/MERGE CDIS/DATA_GENERATION/matching_values.csv\"\n",
    "\n",
    "# --- END OF CONFIGURATION ---\n",
    "\n",
    "\n",
    "def find_actual_column_name(columns, target_name):\n",
    "    \"\"\"Helper function to find a column name, ignoring case.\"\"\"\n",
    "    for col in columns:\n",
    "        if str(col).lower() == str(target_name).lower():\n",
    "            return col\n",
    "    return None\n",
    "\n",
    "def get_unique_values_from_file(filepath, column_name):\n",
    "    \"\"\"\n",
    "    Reads a file, extracts unique values from a specific column,\n",
    "    cleans them, and returns them as a set.\n",
    "    \"\"\"\n",
    "    print(f\"Processing file: {filepath}...\")\n",
    "    try:\n",
    "        # Read just the header to find the correct column name (case-insensitive)\n",
    "        header_df = pd.read_csv(filepath, nrows=0, on_bad_lines='skip')\n",
    "        actual_col_name = find_actual_column_name(header_df.columns, column_name)\n",
    "\n",
    "        if not actual_col_name:\n",
    "            print(f\"  - Error: Column '{column_name}' not found. Please check the column name.\")\n",
    "            return set()\n",
    "\n",
    "        # Read the full column using the correct name\n",
    "        df = pd.read_csv(filepath, usecols=[actual_col_name], on_bad_lines='skip')\n",
    "        \n",
    "        # --- Data Cleaning ---\n",
    "        # Convert all values to string, extract digits, and then convert to numbers.\n",
    "        # This handles mixed data types (e.g., '123' vs 123) and text prefixes (e.g., 'SW-123').\n",
    "        s = pd.Series(df[actual_col_name].dropna().unique(), dtype=str)\n",
    "        s = s.str.extract('(\\d+)').iloc[:, 0]\n",
    "        s = pd.to_numeric(s, errors='coerce')\n",
    "        \n",
    "        cleaned_values = set(s.dropna().astype(int))\n",
    "        \n",
    "        print(f\"  - Found {len(cleaned_values)} unique, clean values.\")\n",
    "        return cleaned_values\n",
    "\n",
    "    except FileNotFoundError:\n",
    "        print(f\"  - Error: File not found. Please check the path: {filepath}\")\n",
    "        return set()\n",
    "    except Exception as e:\n",
    "        print(f\"  - An unexpected error occurred: {e}\")\n",
    "        return set()\n",
    "\n",
    "# --- Main Script ---\n",
    "\n",
    "# Get the unique values from both files\n",
    "unique_values_from_file1 = get_unique_values_from_file(file1_path, file1_column_name)\n",
    "unique_values_from_file2 = get_unique_values_from_file(file2_path, file2_column_name)\n",
    "\n",
    "# --- Comparison and Reporting ---\n",
    "\n",
    "print(\"\\n--- Comparison Report ---\")\n",
    "if not unique_values_from_file1 or not unique_values_from_file2:\n",
    "    print(\"Could not perform comparison because one of the files could not be processed or contained no valid data.\")\n",
    "else:\n",
    "    # Use set intersection to find the values that exist in both sets\n",
    "    matching_values = unique_values_from_file1.intersection(unique_values_from_file2)\n",
    "    \n",
    "    # Print the final report\n",
    "    print(f\"Unique values in '{file1_path}' (Column: {file1_column_name}): {len(unique_values_from_file1)}\")\n",
    "    print(f\"Unique values in '{file2_path}' (Column: {file2_column_name}): {len(unique_values_from_file2)}\")\n",
    "    print(\"-\" * 25)\n",
    "    print(f\"Number of values that matched: {len(matching_values)}\")\n",
    "    print(\"-\" * 25)\n",
    " "
   ]
  },
  {
   "cell_type": "code",
   "execution_count": 50,
   "id": "16fe4b67",
   "metadata": {},
   "outputs": [],
   "source": [
    "import pandas as pd\n",
    "df_energy = pd.read_csv('/media/sagark24/New Volume/MERGE CDIS/DATA_GENERATION/Untitled 1.csv', low_memory=False)"
   ]
  },
  {
   "cell_type": "code",
   "execution_count": 52,
   "id": "cce147f1",
   "metadata": {},
   "outputs": [
    {
     "name": "stdout",
     "output_type": "stream",
     "text": [
      " Visualizing Missing Values for SCADA:\n"
     ]
    },
    {
     "data": {
      "image/png": "[encoded data removed]",
      "text/plain": [
       "<Figure size 2500x1000 with 2 Axes>"
      ]
     },
     "metadata": {},
     "output_type": "display_data"
    }
   ],
   "source": [
    "import missingno as msno\n",
    "import matplotlib.pyplot as plt\n",
    "print(\" Visualizing Missing Values for SCADA:\")\n",
    "msno.matrix(df_energy.sample(min(len(df_energy), 2000)))\n",
    "plt.show()\n"
   ]
  },
  {
   "cell_type": "code",
   "execution_count": 42,
   "id": "ef297d31",
   "metadata": {},
   "outputs": [
    {
     "data": {
      "text/plain": [
       "24228"
      ]
     },
     "execution_count": 42,
     "metadata": {},
     "output_type": "execute_result"
    }
   ],
   "source": [
    "len(df_energy)"
   ]
  },
  {
   "cell_type": "code",
   "execution_count": null,
   "id": "6a19d060",
   "metadata": {},
   "outputs": [],
   "source": []
  }
 ],
 "metadata": {
  "kernelspec": {
   "display_name": "py310",
   "language": "python",
   "name": "python3"
  },
  "language_info": {
   "codemirror_mode": {
    "name": "ipython",
    "version": 3
   },
   "file_extension": ".py",
   "mimetype": "text/x-python",
   "name": "python",
   "nbconvert_exporter": "python",
   "pygments_lexer": "ipython3",
   "version": "3.10.16"
  }
 },
 "nbformat": 4,
 "nbformat_minor": 5
}
