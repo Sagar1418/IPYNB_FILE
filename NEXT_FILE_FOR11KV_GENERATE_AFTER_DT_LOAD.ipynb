{
 "cells": [
  {
   "cell_type": "code",
   "execution_count": 5,
   "id": "98c4be53-3a75-49d2-9364-9088953251fe",
   "metadata": {},
   "outputs": [
    {
     "name": "stdout",
     "output_type": "stream",
     "text": [
      "      DT_LOAD  DT_LOAD_CAL\n",
      "0  127.425882     7.040131\n",
      "1  233.628927    12.907725\n",
      "2  134.062123     7.406775\n",
      "3  245.587090    13.568399\n",
      "4  364.485990    20.137424\n"
     ]
    }
   ],
   "source": [
    "import pandas as pd\n",
    "import numpy as np\n",
    "\n",
    "# 1. Read your CSV\n",
    "df = pd.read_csv(\"/media/sagarkumar/New Volume/SAGAR/IPYNB_FILE/DATA_GENERATION/final_two_column_with_rank_11_withoutDT.csv\")\n",
    "\n",
    "# 2. Compute the constant denominator: 11 * 0.95 * √3\n",
    "den = 11 * 0.95 * np.sqrt(3)\n",
    "\n",
    "# 3. Create the new column\n",
    "df[\"DT_LOAD_CAL\"] = df[\"DT_LOAD\"] / den\n",
    "\n",
    "# 4. (Optional) inspect first few rows\n",
    "print(df[[\"DT_LOAD\", \"DT_LOAD_CAL\"]].head())\n",
    "\n",
    "# 5. Save to a new CSV (or overwrite)\n",
    "df.to_csv(\"/media/sagarkumar/New Volume/SAGAR/IPYNB_FILE/DATA_GENERATION/fedder_11KV_with_DT_LOAD_CAL.csv\", index=False)\n"
   ]
  },
  {
   "cell_type": "markdown",
   "id": "96da7a8b",
   "metadata": {},
   "source": [
    "MAP THE LOAD OF MEANHLY AVERGAE WITH THE FEEDER"
   ]
  },
  {
   "cell_type": "code",
   "execution_count": 7,
   "id": "ce2300ef",
   "metadata": {},
   "outputs": [],
   "source": [
    "import pandas as pd\n",
    "\n",
    "# 1) Load your files\n",
    "sw = pd.read_csv(\"/media/sagarkumar/New Volume/SAGAR/IPYNB_FILE/CSV FILE/Monthly_average_from_scada/monthly_SWNO_matrix_numpy.csv\")       # contains SWNO, Month_01…Month_12\n",
    "feeder = pd.read_csv(\"/media/sagarkumar/New Volume/SAGAR/IPYNB_FILE/DATA_GENERATION/fedder_11KV_with_DT_LOAD_CAL.csv\")      # contains feeder_id, DT_LOAD_CAL\n",
    "\n",
    "# 2) Build a lookup from feeder_id → DT_LOAD_CAL\n",
    "dt_map = feeder.set_index(\"FEEDER_ID\")[\"DT_LOAD_CAL\"].to_dict()\n",
    "\n",
    "# 3) Prepare for the walk:\n",
    "#    We'll keep track of the \"current\" DT_LOAD_CAL and the last calculated values for each month.\n",
    "current_dt = None\n",
    "prev_vals = {f\"Month_{i:02d}\": None for i in range(1,13)}\n",
    "\n",
    "# 4) Iterate rows in order, computing chain‐subtract columns:\n",
    "out_rows = []\n",
    "for _, row in sw.iterrows():\n",
    "    swno = row[\"SWNO\"]\n",
    "    # If this SWNO is a feeder anchor, reset current_dt and prev_vals\n",
    "    if swno in dt_map:\n",
    "        current_dt = dt_map[swno]\n",
    "        # initialize prev_vals for this anchor: first subtraction\n",
    "        for i in range(1,13):\n",
    "            m = f\"Month_{i:02d}\"\n",
    "            prev_vals[m] = row[m] - current_dt\n",
    "    else:\n",
    "        # continue chain: subtract the same current_dt from last prev_vals\n",
    "        for i in range(1,13):\n",
    "            m = f\"Month_{i:02d}\"\n",
    "            prev_vals[m] = prev_vals[m] - current_dt\n",
    "\n",
    "    # build output row\n",
    "    out = row.to_dict()\n",
    "    # add the new _CAL columns\n",
    "    for i in range(1,13):\n",
    "        m = f\"Month_{i:02d}\"\n",
    "        out[f\"{m}_CAL\"] = prev_vals[m]\n",
    "    out_rows.append(out)\n",
    "\n",
    "# 5) Assemble and write out\n",
    "out_df = pd.DataFrame(out_rows)\n",
    "out_df.to_csv(\"/media/sagarkumar/New Volume/SAGAR/IPYNB_FILE/DATA_GENERATION/feeder_11Kv_sw_with_chain_calculations.csv\", index=False)\n"
   ]
  },
  {
   "cell_type": "markdown",
   "id": "9a6d4ff7",
   "metadata": {},
   "source": [
    "COMMULATIVE DIFFERENCE FOR MONTHLY AVERAGE LOAD OF SCADA\n"
   ]
  },
  {
   "cell_type": "code",
   "execution_count": 9,
   "id": "0f9e1df5",
   "metadata": {},
   "outputs": [
    {
     "name": "stdout",
     "output_type": "stream",
     "text": [
      "Saved to /media/sagarkumar/New Volume/SAGAR/IPYNB_FILE/DATA_GENERATION/final_feeder_11kv_monthly_cumulative_diff.csv\n"
     ]
    }
   ],
   "source": [
    "import pandas as pd\n",
    "\n",
    "# File paths\n",
    "feeder_path = \"/media/sagarkumar/New Volume/SAGAR/IPYNB_FILE/DATA_GENERATION/fedder_11KV_with_DT_LOAD_CAL.csv\"\n",
    "monthly_path = \"/media/sagarkumar/New Volume/SAGAR/IPYNB_FILE/CSV FILE/Monthly_average_from_scada/monthly_SWNO_matrix_numpy.csv\"\n",
    "output_path = \"/media/sagarkumar/New Volume/SAGAR/IPYNB_FILE/DATA_GENERATION/final_feeder_11kv_monthly_cumulative_diff.csv\"\n",
    "\n",
    "\n",
    "# Load data\n",
    "feeder_df = pd.read_csv(feeder_path)\n",
    "monthly_df = pd.read_csv(monthly_path)\n",
    "\n",
    "# Merge on FEEDER_ID <-> SWNO\n",
    "merged = feeder_df.merge(monthly_df, left_on='FEEDER_ID', right_on='SWNO', how='left')\n",
    "\n",
    "month_cols = [f'Month_{i:02d}' for i in range(1, 13)]\n",
    "\n",
    "result_rows = []\n",
    "\n",
    "for feeder_id, group in merged.groupby('FEEDER_ID', sort=False):\n",
    "    group = group.copy()\n",
    "    group['__orig_idx'] = group.index\n",
    "    ranks_in_order = group['RANK'].drop_duplicates().tolist()\n",
    "\n",
    "    dt_load_sums = {\n",
    "        rank: group[group['RANK'] == rank]['DT_LOAD_CAL'].fillna(0).sum()\n",
    "        for rank in ranks_in_order\n",
    "    }\n",
    "\n",
    "    prev_cum = {m: None for m in month_cols}\n",
    "\n",
    "    for rank in ranks_in_order:\n",
    "        this_rank_rows = group[group['RANK'] == rank].sort_values('__orig_idx')\n",
    "        first = True\n",
    "        for idx, row in this_rank_rows.iterrows():\n",
    "            base = {col: row[col] for col in feeder_df.columns}\n",
    "            for m in month_cols:\n",
    "                month_val = row.get(m, None)\n",
    "                if first:\n",
    "                    # Only for the first row of this rank\n",
    "                    if rank == ranks_in_order[0]:\n",
    "                        cum_val = month_val - dt_load_sums[rank] if pd.notna(month_val) else None\n",
    "                    else:\n",
    "                        prev = prev_cum[m]\n",
    "                        cum_val = prev - dt_load_sums[rank] if prev is not None else None\n",
    "                    prev_cum[m] = cum_val\n",
    "                else:\n",
    "                    cum_val = None  # For subsequent rows at same rank, leave blank\n",
    "                base[f\"{m}_cumulative_diff\"] = cum_val\n",
    "            result_rows.append(base)\n",
    "            first = False\n",
    "\n",
    "result_df = pd.DataFrame(result_rows)\n",
    "output_cols = list(feeder_df.columns) + [f\"{m}_cumulative_diff\" for m in month_cols]\n",
    "result_df.to_csv(output_path, index=False, columns=output_cols)\n",
    "print(f\"Saved to {output_path}\")\n"
   ]
  },
  {
   "cell_type": "code",
   "execution_count": null,
   "id": "09a6c1e6",
   "metadata": {},
   "outputs": [],
   "source": []
  }
 ],
 "metadata": {
  "kernelspec": {
   "display_name": "sagar",
   "language": "python",
   "name": "python3"
  },
  "language_info": {
   "codemirror_mode": {
    "name": "ipython",
    "version": 3
   },
   "file_extension": ".py",
   "mimetype": "text/x-python",
   "name": "python",
   "nbconvert_exporter": "python",
   "pygments_lexer": "ipython3",
   "version": "3.10.16"
  }
 },
 "nbformat": 4,
 "nbformat_minor": 5
}
