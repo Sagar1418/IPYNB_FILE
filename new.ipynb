{
 "cells": [
  {
   "cell_type": "code",
   "execution_count": 1,
   "id": "11cb88e1",
   "metadata": {},
   "outputs": [
    {
     "name": "stdout",
     "output_type": "stream",
     "text": [
      "Found 763 files to process.\n"
     ]
    },
    {
     "name": "stderr",
     "output_type": "stream",
     "text": [
      "/tmp/ipykernel_46865/3226287605.py:32: UserWarning: Could not infer format, so each element will be parsed individually, falling back to `dateutil`. To ensure parsing is consistent and as-expected, please specify a format.\n",
      "  df['SYSTIME'] = pd.to_datetime(df['SYSTIME'], errors='coerce')\n"
     ]
    },
    {
     "name": "stdout",
     "output_type": "stream",
     "text": [
      "All done! Result saved to /media/sagark24/New Volume/MERGE CDIS/IPYNB_FILE/DATA_GENERATION/average_by_swno_voltage_ALL.csv\n"
     ]
    }
   ],
   "source": [
    "import pandas as pd\n",
    "import glob\n",
    "import os\n",
    "import gc\n",
    "from concurrent.futures import ProcessPoolExecutor\n",
    "\n",
    "# Folders containing your data\n",
    "folders = [\n",
    "    '/media/sagark24/New Volume/MERGE CDIS/2-Year-data/200/200',\n",
    "    '/media/sagark24/New Volume/MERGE CDIS/2-Year-data/200-400/200-400',\n",
    "    '/media/sagark24/New Volume/MERGE CDIS/2-Year-data/400-600/400-600',\n",
    "    '/media/sagark24/New Volume/MERGE CDIS/2-Year-data/600-759/600-759',\n",
    "    '/media/sagark24/New Volume/MERGE CDIS/2-Year-data/SCADA_JAN_24_TO_APR_25'\n",
    "]\n",
    "output_path = '/media/sagark24/New Volume/MERGE CDIS/IPYNB_FILE/DATA_GENERATION/average_by_swno_voltage_ALL.csv'\n",
    "\n",
    "def process_file(file):\n",
    "    try:\n",
    "        dtype_dict = {\n",
    "            'SYSTIME': str,\n",
    "            'SWNO': str,\n",
    "            'VOLTAGE': str,\n",
    "            'PARA': str,\n",
    "            'VALUE': str  # Always as string, convert to float later\n",
    "        }\n",
    "        df = pd.read_csv(\n",
    "            file,\n",
    "            usecols=['SYSTIME', 'SWNO', 'VOLTAGE', 'PARA', 'VALUE'],\n",
    "            dtype=dtype_dict,\n",
    "            low_memory=False\n",
    "        )\n",
    "        df['SYSTIME'] = pd.to_datetime(df['SYSTIME'], errors='coerce')\n",
    "        df = df.dropna(subset=['SYSTIME'])\n",
    "        df['MONTH_NUM'] = df['SYSTIME'].dt.month\n",
    "        df['VOLTAGE'] = df['VOLTAGE'].str.upper().str.strip()\n",
    "        df['PARA'] = df['PARA'].str.upper().str.strip()\n",
    "        df['SWNO'] = df['SWNO'].str.strip()  # Remove spaces in SWNO\n",
    "        # Convert VALUE to float, errors become NaN\n",
    "        df['VALUE'] = pd.to_numeric(df['VALUE'], errors='coerce')\n",
    "        filtered = df[\n",
    "            (df['VOLTAGE'].isin(['22KV', '33KV'])) &\n",
    "            (df['PARA'] == 'I')\n",
    "        ]\n",
    "        grouped = (\n",
    "            filtered.groupby(['SWNO', 'VOLTAGE', 'MONTH_NUM'], as_index=False)['VALUE']\n",
    "            .mean()\n",
    "        )\n",
    "        del df, filtered\n",
    "        gc.collect()\n",
    "        return grouped\n",
    "    except Exception as e:\n",
    "        print(f\"Error processing {file}: {e}\")\n",
    "        return None\n",
    "\n",
    "# Gather all files\n",
    "all_files = []\n",
    "for folder in folders:\n",
    "    all_files.extend(glob.glob(os.path.join(folder, '*.csv')))\n",
    "print(f\"Found {len(all_files)} files to process.\")\n",
    "\n",
    "# Multiprocessing with only 2 cores\n",
    "results = []\n",
    "with ProcessPoolExecutor(max_workers=9) as executor:\n",
    "    for grouped in executor.map(process_file, all_files):\n",
    "        if grouped is not None and not grouped.empty:\n",
    "            results.append(grouped)\n",
    "\n",
    "if results:\n",
    "    final_result = pd.concat(results, ignore_index=True)\n",
    "    # Group again to ensure only one row per SWNO/VOLTAGE/MONTH_NUM\n",
    "    final_result = (\n",
    "        final_result.groupby(['SWNO', 'VOLTAGE', 'MONTH_NUM'], as_index=False)['VALUE']\n",
    "        .mean()\n",
    "    )\n",
    "    # Pivot table to have months 1..12 as columns\n",
    "    pivot = final_result.pivot_table(\n",
    "        index=['SWNO', 'VOLTAGE'],\n",
    "        columns='MONTH_NUM',\n",
    "        values='VALUE',\n",
    "        aggfunc='mean'\n",
    "    ).reset_index()\n",
    "    # Clean up column names (optional: convert month columns to strings)\n",
    "    pivot.columns.name = None\n",
    "    month_map = {i: str(i) for i in range(1, 13)}\n",
    "    pivot = pivot.rename(columns=month_map)\n",
    "    # Ensure unique SWNO/VOLTAGE\n",
    "    pivot = pivot.drop_duplicates(subset=['SWNO', 'VOLTAGE'])\n",
    "    pivot.to_csv(output_path, index=False)\n",
    "    print(f\"All done! Result saved to {output_path}\")\n",
    "else:\n",
    "    print(\"No data processed.\")\n"
   ]
  },
  {
   "cell_type": "code",
   "execution_count": 1,
   "id": "0b0466aa",
   "metadata": {},
   "outputs": [
    {
     "name": "stdout",
     "output_type": "stream",
     "text": [
      "Found 763 files to process.\n"
     ]
    },
    {
     "name": "stderr",
     "output_type": "stream",
     "text": [
      "/tmp/ipykernel_57717/653875642.py:31: UserWarning: Could not infer format, so each element will be parsed individually, falling back to `dateutil`. To ensure parsing is consistent and as-expected, please specify a format.\n",
      "  df['SYSTIME'] = pd.to_datetime(df['SYSTIME'], errors='coerce')\n"
     ]
    },
    {
     "name": "stdout",
     "output_type": "stream",
     "text": [
      "All done! Result saved to /media/sagark24/New Volume/MERGE CDIS/IPYNB_FILE/DATA_GENERATION/average_by_swno_voltage_11kv.csv\n"
     ]
    }
   ],
   "source": [
    "import pandas as pd\n",
    "import glob\n",
    "import os\n",
    "import gc\n",
    "from concurrent.futures import ProcessPoolExecutor\n",
    "\n",
    "folders = [\n",
    "    '/media/sagark24/New Volume/MERGE CDIS/2-Year-data/200/200',\n",
    "    '/media/sagark24/New Volume/MERGE CDIS/2-Year-data/200-400/200-400',\n",
    "    '/media/sagark24/New Volume/MERGE CDIS/2-Year-data/400-600/400-600',\n",
    "    '/media/sagark24/New Volume/MERGE CDIS/2-Year-data/600-759/600-759',\n",
    "    '/media/sagark24/New Volume/MERGE CDIS/2-Year-data/SCADA_JAN_24_TO_APR_25'\n",
    "]\n",
    "output_path = '/media/sagark24/New Volume/MERGE CDIS/IPYNB_FILE/DATA_GENERATION/average_by_swno_voltage_11kv.csv'\n",
    "\n",
    "def process_file(file):\n",
    "    try:\n",
    "        dtype_dict = {\n",
    "            'SYSTIME': str,\n",
    "            'SWNO': str,\n",
    "            'VOLTAGE': str,\n",
    "            'PARA': str,\n",
    "            'VALUE': str\n",
    "        }\n",
    "        df = pd.read_csv(\n",
    "            file,\n",
    "            usecols=['SYSTIME', 'SWNO', 'VOLTAGE', 'PARA', 'VALUE'],\n",
    "            dtype=dtype_dict,\n",
    "            low_memory=False\n",
    "        )\n",
    "        df['SYSTIME'] = pd.to_datetime(df['SYSTIME'], errors='coerce')\n",
    "        df = df.dropna(subset=['SYSTIME'])\n",
    "        df['MONTH_NUM'] = df['SYSTIME'].dt.month\n",
    "        df['VOLTAGE'] = df['VOLTAGE'].str.upper().str.strip()\n",
    "        df['PARA'] = df['PARA'].str.upper().str.strip()\n",
    "        df['SWNO'] = df['SWNO'].str.strip()\n",
    "        df['VALUE'] = pd.to_numeric(df['VALUE'], errors='coerce')\n",
    "        filtered = df[\n",
    "            (df['VOLTAGE'] == '11KV') &\n",
    "            (df['PARA'] == 'I')\n",
    "        ]\n",
    "        grouped = (\n",
    "            filtered.groupby(['SWNO', 'VOLTAGE', 'MONTH_NUM'], as_index=False)['VALUE']\n",
    "            .mean()\n",
    "        )\n",
    "        del df, filtered\n",
    "        gc.collect()\n",
    "        return grouped\n",
    "    except Exception as e:\n",
    "        print(f\"Error processing {file}: {e}\")\n",
    "        return None\n",
    "\n",
    "# Gather all files\n",
    "all_files = []\n",
    "for folder in folders:\n",
    "    all_files.extend(glob.glob(os.path.join(folder, '*.csv')))\n",
    "print(f\"Found {len(all_files)} files to process.\")\n",
    "\n",
    "# Multiprocessing with only 2 cores\n",
    "results = []\n",
    "with ProcessPoolExecutor(max_workers=9) as executor:\n",
    "    for grouped in executor.map(process_file, all_files):\n",
    "        if grouped is not None and not grouped.empty:\n",
    "            results.append(grouped)\n",
    "\n",
    "if results:\n",
    "    final_result = pd.concat(results, ignore_index=True)\n",
    "    final_result = (\n",
    "        final_result.groupby(['SWNO', 'VOLTAGE', 'MONTH_NUM'], as_index=False)['VALUE']\n",
    "        .mean()\n",
    "    )\n",
    "    pivot = final_result.pivot_table(\n",
    "        index=['SWNO', 'VOLTAGE'],\n",
    "        columns='MONTH_NUM',\n",
    "        values='VALUE',\n",
    "        aggfunc='mean'\n",
    "    ).reset_index()\n",
    "    pivot.columns.name = None\n",
    "    month_map = {i: str(i) for i in range(1, 13)}\n",
    "    pivot = pivot.rename(columns=month_map)\n",
    "    pivot = pivot.drop_duplicates(subset=['SWNO', 'VOLTAGE'])\n",
    "    pivot.to_csv(output_path, index=False)\n",
    "    print(f\"All done! Result saved to {output_path}\")\n",
    "else:\n",
    "    print(\"No data processed.\")\n"
   ]
  },
  {
   "cell_type": "code",
   "execution_count": 2,
   "id": "82112991",
   "metadata": {},
   "outputs": [
    {
     "ename": "SyntaxError",
     "evalue": "unterminated string literal (detected at line 9) (2208624628.py, line 9)",
     "output_type": "error",
     "traceback": [
      "\u001b[0;36m  Cell \u001b[0;32mIn[2], line 9\u001b[0;36m\u001b[0m\n\u001b[0;31m    '/media/sagark24/New Volume/MERGE CDIS/2-Year-data/\u001b[0m\n\u001b[0m    ^\u001b[0m\n\u001b[0;31mSyntaxError\u001b[0m\u001b[0;31m:\u001b[0m unterminated string literal (detected at line 9)\n"
     ]
    }
   ],
   "source": [
    "import pandas as pd\n",
    "import glob\n",
    "import os\n",
    "import gc\n",
    "from concurrent.futures import ProcessPoolExecutor\n",
    "\n",
    "\n",
    "folders = [\n",
    "    '/media/sagark24/New Volume/MERGE CDIS/2-Year-data/\n",
    "\n",
    "\n",
    "\n",
    "200/200',    '/media/sagark24/New Volume/MERGE CDIS/2-Year-data/200-400/200-400',\n",
    "    '/media/sagark24/New Volume/MERGE CDIS/2-Year-data/400-600/400-600',\n",
    "    '/media/sagark      "
   ]
  },
  {
   "cell_type": "code",
   "execution_count": null,
   "id": "0024e81c",
   "metadata": {},
   "outputs": [],
   "source": []
  }
 ],
 "metadata": {
  "kernelspec": {
   "display_name": "sagar",
   "language": "python",
   "name": "python3"
  },
  "language_info": {
   "codemirror_mode": {
    "name": "ipython",
    "version": 3
   },
   "file_extension": ".py",
   "mimetype": "text/x-python",
   "name": "python",
   "nbconvert_exporter": "python",
   "pygments_lexer": "ipython3",
   "version": "3.10.16"
  }
 },
 "nbformat": 4,
 "nbformat_minor": 5
}
