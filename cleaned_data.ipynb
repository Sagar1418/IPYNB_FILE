{
 "cells": [
  {
   "cell_type": "code",
   "execution_count": 5,
   "id": "afa3187e",
   "metadata": {},
   "outputs": [
    {
     "name": "stdout",
     "output_type": "stream",
     "text": [
      "lenof df: 54777\n",
      "afeter strip: 54777\n",
      "  Cleaned file saved to: /media/sagark24/New Volume/MERGE CDIS/2-Year-data/CLEANED_DATA/ht_cleaned.csv\n"
     ]
    }
   ],
   "source": [
    "import pandas as pd\n",
    "from pathlib import Path\n",
    "\n",
    "# ----- 1) Path to your file --------------------------------------------------\n",
    "# Replace with the real path or just drop your CSV in the same folder\n",
    "in_path  = Path(\"/media/sagark24/New Volume/MERGE CDIS/2-Year-data/HTCABLE_Clean.csv\")          # original file\n",
    "out_path = Path(\"/media/sagark24/New Volume/MERGE CDIS/2-Year-data/CLEANED_DATA/ht_cleaned.csv\")  # cleaned version\n",
    "\n",
    "# ----- 2) Read the CSV -------------------------------------------------------\n",
    "# low_memory=False avoids dtype guessing issues on large files\n",
    "df = pd.read_csv(in_path, low_memory=False)\n",
    "print(f\"lenof df: {len(df)}\")\n",
    "# ----- 3) Identify all string (object) columns -------------------------------\n",
    "str_cols = df.select_dtypes(include=\"object\").columns\n",
    "\n",
    "# ----- 4) Strip spaces at both ends ------------------------------------------\n",
    "df[str_cols] = df[str_cols].apply(lambda col: col.str.strip())\n",
    "\n",
    "# (Optional) collapse any **internal** runs of spaces into a single space:\n",
    "df[str_cols] = df[str_cols].apply(lambda col: col.str.replace(r\"\\s+\", \" \", regex=True))\n",
    "\n",
    "# ----- 5) Write the cleaned file ---------------------------------------------\n",
    "df.to_csv(out_path, index=False)\n",
    "print(f\"afeter strip: {len(df)}\")\n",
    "print(f\"  Cleaned file saved to: {out_path.resolve()}\")\n"
   ]
  },
  {
   "cell_type": "code",
   "execution_count": 6,
   "id": "73d13976",
   "metadata": {},
   "outputs": [
    {
     "name": "stdout",
     "output_type": "stream",
     "text": [
      "lenof df: 1381453\n",
      "afeter strip: 1381453\n",
      "  Cleaned file saved to: /media/sagark24/New Volume/MERGE CDIS/2-Year-data/CLEANED_DATA/energyaudit_cleaned.csv\n"
     ]
    }
   ],
   "source": [
    "import pandas as pd\n",
    "from pathlib import Path\n",
    "\n",
    "# ----- 1) Path to your file --------------------------------------------------\n",
    "# Replace with the real path or just drop your CSV in the same folder\n",
    "in_path  = Path(\"/media/sagark24/New Volume/MERGE CDIS/2-Year-data/ENERGYAUDIT.csv\")          # original file\n",
    "out_path = Path(\"/media/sagark24/New Volume/MERGE CDIS/2-Year-data/CLEANED_DATA/energyaudit_cleaned.csv\")  # cleaned version\n",
    "\n",
    "# ----- 2) Read the CSV -------------------------------------------------------\n",
    "# low_memory=False avoids dtype guessing issues on large files\n",
    "df = pd.read_csv(in_path, low_memory=False)\n",
    "print(f\"lenof df: {len(df)}\")\n",
    "# ----- 3) Identify all string (object) columns -------------------------------\n",
    "str_cols = df.select_dtypes(include=\"object\").columns\n",
    "\n",
    "# ----- 4) Strip spaces at both ends ------------------------------------------\n",
    "df[str_cols] = df[str_cols].apply(lambda col: col.str.strip())\n",
    "\n",
    "# (Optional) collapse any **internal** runs of spaces into a single space:\n",
    "df[str_cols] = df[str_cols].apply(lambda col: col.str.replace(r\"\\s+\", \" \", regex=True))\n",
    "\n",
    "# ----- 5) Write the cleaned file ---------------------------------------------\n",
    "df.to_csv(out_path, index=False)\n",
    "print(f\"afeter strip: {len(df)}\")\n",
    "print(f\"  Cleaned file saved to: {out_path.resolve()}\")\n"
   ]
  },
  {
   "cell_type": "code",
   "execution_count": 7,
   "id": "81e4ae23",
   "metadata": {},
   "outputs": [
    {
     "name": "stdout",
     "output_type": "stream",
     "text": [
      "lenof df: 69702\n",
      "afeter strip: 69702\n",
      "  Cleaned file saved to: /media/sagark24/New Volume/MERGE CDIS/2-Year-data/CLEANED_DATA/feederdetails_cleaned.csv\n"
     ]
    }
   ],
   "source": [
    "import pandas as pd\n",
    "from pathlib import Path\n",
    "\n",
    "# ----- 1) Path to your file --------------------------------------------------\n",
    "# Replace with the real path or just drop your CSV in the same folder\n",
    "in_path  = Path(\"/media/sagark24/New Volume/MERGE CDIS/2-Year-data/FEEDERDETAILS.csv\")          # original file\n",
    "out_path = Path(\"/media/sagark24/New Volume/MERGE CDIS/2-Year-data/CLEANED_DATA/feederdetails_cleaned.csv\")  # cleaned version\n",
    "\n",
    "# ----- 2) Read the CSV -------------------------------------------------------\n",
    "# low_memory=False avoids dtype guessing issues on large files\n",
    "df = pd.read_csv(in_path, low_memory=False)\n",
    "print(f\"lenof df: {len(df)}\")\n",
    "# ----- 3) Identify all string (object) columns -------------------------------\n",
    "str_cols = df.select_dtypes(include=\"object\").columns\n",
    "\n",
    "# ----- 4) Strip spaces at both ends ------------------------------------------\n",
    "df[str_cols] = df[str_cols].apply(lambda col: col.str.strip())\n",
    "\n",
    "# (Optional) collapse any **internal** runs of spaces into a single space:\n",
    "df[str_cols] = df[str_cols].apply(lambda col: col.str.replace(r\"\\s+\", \" \", regex=True))\n",
    "\n",
    "# ----- 5) Write the cleaned file ---------------------------------------------\n",
    "df.to_csv(out_path, index=False)\n",
    "print(f\"afeter strip: {len(df)}\")\n",
    "print(f\"  Cleaned file saved to: {out_path.resolve()}\")\n"
   ]
  },
  {
   "cell_type": "code",
   "execution_count": 8,
   "id": "447dceb9",
   "metadata": {},
   "outputs": [
    {
     "name": "stdout",
     "output_type": "stream",
     "text": [
      "lenof df: 501529\n",
      "afeter strip: 501529\n",
      "  Cleaned file saved to: /media/sagark24/New Volume/MERGE CDIS/2-Year-data/CLEANED_DATA/networkdetails_cleaned.csv\n"
     ]
    }
   ],
   "source": [
    "import pandas as pd\n",
    "from pathlib import Path\n",
    "\n",
    "# ----- 1) Path to your file --------------------------------------------------\n",
    "# Replace with the real path or just drop your CSV in the same folder\n",
    "in_path  = Path(\"/media/sagark24/New Volume/MERGE CDIS/2-Year-data/NETWORKDETAILS.csv\")          # original file\n",
    "out_path = Path(\"/media/sagark24/New Volume/MERGE CDIS/2-Year-data/CLEANED_DATA/networkdetails_cleaned.csv\")  # cleaned version\n",
    "\n",
    "# ----- 2) Read the CSV -------------------------------------------------------\n",
    "# low_memory=False avoids dtype guessing issues on large files\n",
    "df = pd.read_csv(in_path, low_memory=False)\n",
    "print(f\"lenof df: {len(df)}\")\n",
    "# ----- 3) Identify all string (object) columns -------------------------------\n",
    "str_cols = df.select_dtypes(include=\"object\").columns\n",
    "\n",
    "# ----- 4) Strip spaces at both ends ------------------------------------------\n",
    "df[str_cols] = df[str_cols].apply(lambda col: col.str.strip())\n",
    "\n",
    "# (Optional) collapse any **internal** runs of spaces into a single space:\n",
    "df[str_cols] = df[str_cols].apply(lambda col: col.str.replace(r\"\\s+\", \" \", regex=True))\n",
    "\n",
    "# ----- 5) Write the cleaned file ---------------------------------------------\n",
    "df.to_csv(out_path, index=False)\n",
    "print(f\"afeter strip: {len(df)}\")\n",
    "print(f\"  Cleaned file saved to: {out_path.resolve()}\")\n"
   ]
  },
  {
   "cell_type": "code",
   "execution_count": 10,
   "id": "e0c168b0",
   "metadata": {},
   "outputs": [
    {
     "name": "stdout",
     "output_type": "stream",
     "text": [
      "lenof df: 24090\n",
      "afeter strip: 24090\n",
      "  Cleaned file saved to: /media/sagark24/New Volume/MERGE CDIS/2-Year-data/CLEANED_DATA/txn_nms_htlogsheet_cleaned.csv\n"
     ]
    }
   ],
   "source": [
    "import pandas as pd\n",
    "from pathlib import Path\n",
    "\n",
    "# ----- 1) Path to your file --------------------------------------------------\n",
    "# Replace with the real path or just drop your CSV in the same folder\n",
    "in_path  = Path(\"/media/sagark24/New Volume/MERGE CDIS/2-Year-data/TXN_NMS_HTLOGSHEET.csv\")          # original file\n",
    "out_path = Path(\"/media/sagark24/New Volume/MERGE CDIS/2-Year-data/CLEANED_DATA/txn_nms_htlogsheet_cleaned.csv\")  # cleaned version\n",
    "\n",
    "# ----- 2) Read the CSV -------------------------------------------------------\n",
    "# low_memory=False avoids dtype guessing issues on large files\n",
    "df = pd.read_csv(in_path, low_memory=False)\n",
    "print(f\"lenof df: {len(df)}\")\n",
    "# ----- 3) Identify all string (object) columns -------------------------------\n",
    "str_cols = df.select_dtypes(include=\"object\").columns\n",
    "\n",
    "# ----- 4) Strip spaces at both ends ------------------------------------------\n",
    "df[str_cols] = df[str_cols].apply(lambda col: col.str.strip())\n",
    "\n",
    "# (Optional) collapse any **internal** runs of spaces into a single space:\n",
    "df[str_cols] = df[str_cols].apply(lambda col: col.str.replace(r\"\\s+\", \" \", regex=True))\n",
    "\n",
    "# ----- 5) Write the cleaned file ---------------------------------------------\n",
    "df.to_csv(out_path, index=False)\n",
    "print(f\"afeter strip: {len(df)}\")\n",
    "print(f\"  Cleaned file saved to: {out_path.resolve()}\")\n"
   ]
  },
  {
   "cell_type": "code",
   "execution_count": 11,
   "id": "eaf8829d",
   "metadata": {},
   "outputs": [
    {
     "name": "stdout",
     "output_type": "stream",
     "text": [
      "lenof df: 11057\n",
      "afeter strip: 11057\n",
      "  Cleaned file saved to: /media/sagark24/New Volume/MERGE CDIS/2-Year-data/CLEANED_DATA/htlogsheet_cleaned.csv\n"
     ]
    }
   ],
   "source": [
    "import pandas as pd\n",
    "from pathlib import Path\n",
    "\n",
    "# ----- 1) Path to your file --------------------------------------------------\n",
    "# Replace with the real path or just drop your CSV in the same folder\n",
    "in_path  = Path(\"/media/sagark24/New Volume/MERGE CDIS/HTLOGSHEET_CLEAN_enetrytype_1_cleaned.csv\")          # original file\n",
    "out_path = Path(\"/media/sagark24/New Volume/MERGE CDIS/2-Year-data/CLEANED_DATA/htlogsheet_cleaned.csv\")  # cleaned version\n",
    "\n",
    "# ----- 2) Read the CSV -------------------------------------------------------\n",
    "# low_memory=False avoids dtype guessing issues on large files\n",
    "df = pd.read_csv(in_path, low_memory=False)\n",
    "print(f\"lenof df: {len(df)}\")\n",
    "# ----- 3) Identify all string (object) columns -------------------------------\n",
    "str_cols = df.select_dtypes(include=\"object\").columns\n",
    "\n",
    "# ----- 4) Strip spaces at both ends ------------------------------------------\n",
    "df[str_cols] = df[str_cols].apply(lambda col: col.str.strip())\n",
    "\n",
    "# (Optional) collapse any **internal** runs of spaces into a single space:\n",
    "df[str_cols] = df[str_cols].apply(lambda col: col.str.replace(r\"\\s+\", \" \", regex=True))\n",
    "\n",
    "# ----- 5) Write the cleaned file ---------------------------------------------\n",
    "df.to_csv(out_path, index=False)\n",
    "print(f\"afeter strip: {len(df)}\")\n",
    "print(f\"  Cleaned file saved to: {out_path.resolve()}\")\n"
   ]
  },
  {
   "cell_type": "code",
   "execution_count": null,
   "id": "f6d6ea48",
   "metadata": {},
   "outputs": [],
   "source": []
  }
 ],
 "metadata": {
  "kernelspec": {
   "display_name": "py310",
   "language": "python",
   "name": "python3"
  },
  "language_info": {
   "codemirror_mode": {
    "name": "ipython",
    "version": 3
   },
   "file_extension": ".py",
   "mimetype": "text/x-python",
   "name": "python",
   "nbconvert_exporter": "python",
   "pygments_lexer": "ipython3",
   "version": "3.10.16"
  }
 },
 "nbformat": 4,
 "nbformat_minor": 5
}
